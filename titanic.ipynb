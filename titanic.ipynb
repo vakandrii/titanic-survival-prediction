{
 "cells": [
  {
   "cell_type": "markdown",
   "id": "39a4a2e3-9454-41b3-9765-c3575e7ddf22",
   "metadata": {},
   "source": [
    "## Zdroj dat\n",
    "\n",
    "Budeme se zabývat predikcí přežití pasažérů Titaniku.\n",
    "K dispozici máme dataset v souboru `data.csv`. Udaje byly převzaty z https://www.kaggle.com/competitions/titanic/data\n",
    "\n",
    "### Seznam příznaků:\n",
    "* survived - zda pasažér přežil, 0 = Ne, 1 = Ano, **vysvětlovaná proměnná**, kterou chceme predikovat\n",
    "* pclass - Třída lodního lístku, 1 = první, 2 = druhá, 3 = třetí\n",
    "* name - jméno\n",
    "* sex - pohlaví\n",
    "* age - věk v letech\n",
    "* sibsp\t- počet sourozenců / manželů, manželek na palubě\n",
    "* parch - počet rodičů / dětí na palubě\n",
    "* ticket - číslo lodního lístku\n",
    "* fare - cena lodního lístku\n",
    "* cabin\t- číslo kajuty\n",
    "* embarked\t- místo nalodění, C = Cherbourg, Q = Queenstown, S = Southampton\n",
    "* home.dest - Bydliště/Cíl\n",
    "\n",
    "## Obsah projektu\n",
    "\n",
    "* V notebooku načtěme data ze souboru `data.csv`. Vhodným způsobem si je rozdělme na podmnožiny, které nám poslouží pro trénování (trénovací), porovnávání modelů (validační) a následnou predikci výkonnosti finálního modelu (testovací).\n",
    "  \n",
    "* Proveďme základní předzpracování dat:\n",
    "  * Projděme si jednotlivé příznaky a transformujme je do vhodné podoby pro použití ve vybraném klasifikačním modelu.\n",
    "  * Podle potřeby si můžeme vytvářet nové příznaky (na základě existujících).\n",
    "  * Některé příznaky můžete také úplně zahodit.\n",
    "  * Vypořádejme se s chybějícími hodnotami.\n",
    "\n",
    "* Na připravená data postupně aplikujeme **rozhodovací strom** a **metodu nejbližších sousedů**, přičemž pro každý z těchto modelů:\n",
    "  * Okomentujme vhodnost daného modelu pro daný typ úlohy.\n",
    "  * Vyberme si hlavní hyperparametry k ladění a najděme jejich nejlepší hodnoty.\n",
    "  * Pro model s nejlepšími hodnotami hyperparametrů spočtěme F1 skóre, nakreslete ROC křivku a určete AUC.\n",
    "      \n",
    "* Ze všech zkoušených možností v předchozím kroku vyberte finální model a odhadněme, jakou přesnost můžete očekávat na nových datech, která jsme doposud neměli k dispozici."
   ]
  },
  {
   "cell_type": "code",
   "execution_count": 604,
   "id": "003f7995-4bc0-42d8-a9ac-456638cdd708",
   "metadata": {},
   "outputs": [],
   "source": [
    "import math\n",
    "import pandas as pd\n",
    "import numpy as np\n",
    "import seaborn as sns\n",
    "sns.set_theme(palette='dark',style='darkgrid')\n",
    "\n",
    "import matplotlib\n",
    "import matplotlib.pyplot as plt\n",
    "%matplotlib inline\n",
    "\n",
    "random_seed = 110723\n",
    "import sklearn.metrics as metrics\n",
    "\n",
    "from sklearn.preprocessing import LabelEncoder\n",
    "from sklearn.preprocessing import OneHotEncoder\n",
    "from sklearn.preprocessing import MinMaxScaler\n",
    "from sklearn.preprocessing import StandardScaler\n",
    "\n",
    "from sklearn.model_selection import train_test_split\n",
    "from sklearn.model_selection import ParameterGrid\n",
    "from sklearn.model_selection import cross_val_score\n",
    "\n",
    "from sklearn.tree import DecisionTreeClassifier\n",
    "from sklearn.tree import plot_tree\n",
    "\n",
    "from sklearn.neighbors import KNeighborsClassifier\n",
    "\n",
    "# ignore all future warnings\n",
    "from warnings import simplefilter\n",
    "simplefilter(action='ignore', category=FutureWarning)\n"
   ]
  },
  {
   "cell_type": "markdown",
   "metadata": {},
   "source": [
    "# Načtěni dat"
   ]
  },
  {
   "cell_type": "code",
   "execution_count": 605,
   "metadata": {},
   "outputs": [
    {
     "data": {
      "text/plain": [
       "(1000, 13)"
      ]
     },
     "metadata": {},
     "output_type": "display_data"
    },
    {
     "data": {
      "text/html": [
       "<div>\n",
       "<style scoped>\n",
       "    .dataframe tbody tr th:only-of-type {\n",
       "        vertical-align: middle;\n",
       "    }\n",
       "\n",
       "    .dataframe tbody tr th {\n",
       "        vertical-align: top;\n",
       "    }\n",
       "\n",
       "    .dataframe thead th {\n",
       "        text-align: right;\n",
       "    }\n",
       "</style>\n",
       "<table border=\"1\" class=\"dataframe\">\n",
       "  <thead>\n",
       "    <tr style=\"text-align: right;\">\n",
       "      <th></th>\n",
       "      <th>ID</th>\n",
       "      <th>survived</th>\n",
       "      <th>pclass</th>\n",
       "      <th>name</th>\n",
       "      <th>sex</th>\n",
       "      <th>age</th>\n",
       "      <th>sibsp</th>\n",
       "      <th>parch</th>\n",
       "      <th>ticket</th>\n",
       "      <th>fare</th>\n",
       "      <th>cabin</th>\n",
       "      <th>embarked</th>\n",
       "      <th>home.dest</th>\n",
       "    </tr>\n",
       "  </thead>\n",
       "  <tbody>\n",
       "    <tr>\n",
       "      <th>0</th>\n",
       "      <td>0</td>\n",
       "      <td>0</td>\n",
       "      <td>3</td>\n",
       "      <td>Goodwin, Master. William Frederick</td>\n",
       "      <td>male</td>\n",
       "      <td>11.0</td>\n",
       "      <td>5</td>\n",
       "      <td>2</td>\n",
       "      <td>CA 2144</td>\n",
       "      <td>46.9000</td>\n",
       "      <td>NaN</td>\n",
       "      <td>S</td>\n",
       "      <td>Wiltshire, England Niagara Falls, NY</td>\n",
       "    </tr>\n",
       "    <tr>\n",
       "      <th>1</th>\n",
       "      <td>1</td>\n",
       "      <td>0</td>\n",
       "      <td>3</td>\n",
       "      <td>Jardin, Mr. Jose Neto</td>\n",
       "      <td>male</td>\n",
       "      <td>NaN</td>\n",
       "      <td>0</td>\n",
       "      <td>0</td>\n",
       "      <td>SOTON/O.Q. 3101305</td>\n",
       "      <td>7.0500</td>\n",
       "      <td>NaN</td>\n",
       "      <td>S</td>\n",
       "      <td>NaN</td>\n",
       "    </tr>\n",
       "    <tr>\n",
       "      <th>2</th>\n",
       "      <td>2</td>\n",
       "      <td>0</td>\n",
       "      <td>3</td>\n",
       "      <td>Skoog, Master. Harald</td>\n",
       "      <td>male</td>\n",
       "      <td>4.0</td>\n",
       "      <td>3</td>\n",
       "      <td>2</td>\n",
       "      <td>347088</td>\n",
       "      <td>27.9000</td>\n",
       "      <td>NaN</td>\n",
       "      <td>S</td>\n",
       "      <td>NaN</td>\n",
       "    </tr>\n",
       "    <tr>\n",
       "      <th>3</th>\n",
       "      <td>3</td>\n",
       "      <td>1</td>\n",
       "      <td>3</td>\n",
       "      <td>O'Brien, Mrs. Thomas (Johanna \"Hannah\" Godfrey)</td>\n",
       "      <td>female</td>\n",
       "      <td>NaN</td>\n",
       "      <td>1</td>\n",
       "      <td>0</td>\n",
       "      <td>370365</td>\n",
       "      <td>15.5000</td>\n",
       "      <td>NaN</td>\n",
       "      <td>Q</td>\n",
       "      <td>NaN</td>\n",
       "    </tr>\n",
       "    <tr>\n",
       "      <th>4</th>\n",
       "      <td>4</td>\n",
       "      <td>1</td>\n",
       "      <td>3</td>\n",
       "      <td>Abrahim, Mrs. Joseph (Sophie Halaut Easu)</td>\n",
       "      <td>female</td>\n",
       "      <td>18.0</td>\n",
       "      <td>0</td>\n",
       "      <td>0</td>\n",
       "      <td>2657</td>\n",
       "      <td>7.2292</td>\n",
       "      <td>NaN</td>\n",
       "      <td>C</td>\n",
       "      <td>Greensburg, PA</td>\n",
       "    </tr>\n",
       "    <tr>\n",
       "      <th>5</th>\n",
       "      <td>5</td>\n",
       "      <td>0</td>\n",
       "      <td>2</td>\n",
       "      <td>Giles, Mr. Frederick Edward</td>\n",
       "      <td>male</td>\n",
       "      <td>21.0</td>\n",
       "      <td>1</td>\n",
       "      <td>0</td>\n",
       "      <td>28134</td>\n",
       "      <td>11.5000</td>\n",
       "      <td>NaN</td>\n",
       "      <td>S</td>\n",
       "      <td>Cornwall / Camden, NJ</td>\n",
       "    </tr>\n",
       "    <tr>\n",
       "      <th>6</th>\n",
       "      <td>6</td>\n",
       "      <td>0</td>\n",
       "      <td>3</td>\n",
       "      <td>Williams, Mr. Leslie</td>\n",
       "      <td>male</td>\n",
       "      <td>28.5</td>\n",
       "      <td>0</td>\n",
       "      <td>0</td>\n",
       "      <td>54636</td>\n",
       "      <td>16.1000</td>\n",
       "      <td>NaN</td>\n",
       "      <td>S</td>\n",
       "      <td>NaN</td>\n",
       "    </tr>\n",
       "    <tr>\n",
       "      <th>7</th>\n",
       "      <td>7</td>\n",
       "      <td>0</td>\n",
       "      <td>3</td>\n",
       "      <td>Johansson, Mr. Gustaf Joel</td>\n",
       "      <td>male</td>\n",
       "      <td>33.0</td>\n",
       "      <td>0</td>\n",
       "      <td>0</td>\n",
       "      <td>7540</td>\n",
       "      <td>8.6542</td>\n",
       "      <td>NaN</td>\n",
       "      <td>S</td>\n",
       "      <td>NaN</td>\n",
       "    </tr>\n",
       "    <tr>\n",
       "      <th>8</th>\n",
       "      <td>8</td>\n",
       "      <td>0</td>\n",
       "      <td>2</td>\n",
       "      <td>Norman, Mr. Robert Douglas</td>\n",
       "      <td>male</td>\n",
       "      <td>28.0</td>\n",
       "      <td>0</td>\n",
       "      <td>0</td>\n",
       "      <td>218629</td>\n",
       "      <td>13.5000</td>\n",
       "      <td>NaN</td>\n",
       "      <td>S</td>\n",
       "      <td>Glasgow</td>\n",
       "    </tr>\n",
       "    <tr>\n",
       "      <th>9</th>\n",
       "      <td>9</td>\n",
       "      <td>1</td>\n",
       "      <td>3</td>\n",
       "      <td>Nicola-Yarred, Miss. Jamila</td>\n",
       "      <td>female</td>\n",
       "      <td>14.0</td>\n",
       "      <td>1</td>\n",
       "      <td>0</td>\n",
       "      <td>2651</td>\n",
       "      <td>11.2417</td>\n",
       "      <td>NaN</td>\n",
       "      <td>C</td>\n",
       "      <td>NaN</td>\n",
       "    </tr>\n",
       "  </tbody>\n",
       "</table>\n",
       "</div>"
      ],
      "text/plain": [
       "   ID  survived  pclass                                             name  \\\n",
       "0   0         0       3               Goodwin, Master. William Frederick   \n",
       "1   1         0       3                            Jardin, Mr. Jose Neto   \n",
       "2   2         0       3                            Skoog, Master. Harald   \n",
       "3   3         1       3  O'Brien, Mrs. Thomas (Johanna \"Hannah\" Godfrey)   \n",
       "4   4         1       3        Abrahim, Mrs. Joseph (Sophie Halaut Easu)   \n",
       "5   5         0       2                      Giles, Mr. Frederick Edward   \n",
       "6   6         0       3                             Williams, Mr. Leslie   \n",
       "7   7         0       3                       Johansson, Mr. Gustaf Joel   \n",
       "8   8         0       2                       Norman, Mr. Robert Douglas   \n",
       "9   9         1       3                      Nicola-Yarred, Miss. Jamila   \n",
       "\n",
       "      sex   age  sibsp  parch              ticket     fare cabin embarked  \\\n",
       "0    male  11.0      5      2             CA 2144  46.9000   NaN        S   \n",
       "1    male   NaN      0      0  SOTON/O.Q. 3101305   7.0500   NaN        S   \n",
       "2    male   4.0      3      2              347088  27.9000   NaN        S   \n",
       "3  female   NaN      1      0              370365  15.5000   NaN        Q   \n",
       "4  female  18.0      0      0                2657   7.2292   NaN        C   \n",
       "5    male  21.0      1      0               28134  11.5000   NaN        S   \n",
       "6    male  28.5      0      0               54636  16.1000   NaN        S   \n",
       "7    male  33.0      0      0                7540   8.6542   NaN        S   \n",
       "8    male  28.0      0      0              218629  13.5000   NaN        S   \n",
       "9  female  14.0      1      0                2651  11.2417   NaN        C   \n",
       "\n",
       "                              home.dest  \n",
       "0  Wiltshire, England Niagara Falls, NY  \n",
       "1                                   NaN  \n",
       "2                                   NaN  \n",
       "3                                   NaN  \n",
       "4                        Greensburg, PA  \n",
       "5                 Cornwall / Camden, NJ  \n",
       "6                                   NaN  \n",
       "7                                   NaN  \n",
       "8                               Glasgow  \n",
       "9                                   NaN  "
      ]
     },
     "metadata": {},
     "output_type": "display_data"
    }
   ],
   "source": [
    "data = pd.read_csv('data.csv')\n",
    "display(data.shape)\n",
    "display(data.head(10))"
   ]
  },
  {
   "cell_type": "markdown",
   "metadata": {},
   "source": [
    "Nejprve vynechame duplicitni zaznamy:"
   ]
  },
  {
   "cell_type": "code",
   "execution_count": 606,
   "metadata": {},
   "outputs": [],
   "source": [
    "data.drop_duplicates(inplace=True)"
   ]
  },
  {
   "cell_type": "markdown",
   "metadata": {},
   "source": [
    "# Exploracni analyza dat"
   ]
  },
  {
   "cell_type": "code",
   "execution_count": 607,
   "metadata": {},
   "outputs": [
    {
     "name": "stdout",
     "output_type": "stream",
     "text": [
      "<class 'pandas.core.frame.DataFrame'>\n",
      "Int64Index: 1000 entries, 0 to 999\n",
      "Data columns (total 13 columns):\n",
      " #   Column     Non-Null Count  Dtype  \n",
      "---  ------     --------------  -----  \n",
      " 0   ID         1000 non-null   int64  \n",
      " 1   survived   1000 non-null   int64  \n",
      " 2   pclass     1000 non-null   int64  \n",
      " 3   name       1000 non-null   object \n",
      " 4   sex        1000 non-null   object \n",
      " 5   age        802 non-null    float64\n",
      " 6   sibsp      1000 non-null   int64  \n",
      " 7   parch      1000 non-null   int64  \n",
      " 8   ticket     1000 non-null   object \n",
      " 9   fare       999 non-null    float64\n",
      " 10  cabin      233 non-null    object \n",
      " 11  embarked   998 non-null    object \n",
      " 12  home.dest  566 non-null    object \n",
      "dtypes: float64(2), int64(5), object(6)\n",
      "memory usage: 109.4+ KB\n"
     ]
    },
    {
     "data": {
      "text/plain": [
       "None"
      ]
     },
     "metadata": {},
     "output_type": "display_data"
    }
   ],
   "source": [
    "display(data.info())"
   ]
  },
  {
   "cell_type": "markdown",
   "metadata": {},
   "source": [
    "Dataset obsahuje 1000 příkladů a 12 features + cílovou proměnnou (survived). Dva z nich jsou float, 5 celých čísel a 6 objektů."
   ]
  },
  {
   "cell_type": "code",
   "execution_count": 608,
   "metadata": {},
   "outputs": [
    {
     "data": {
      "text/html": [
       "<div>\n",
       "<style scoped>\n",
       "    .dataframe tbody tr th:only-of-type {\n",
       "        vertical-align: middle;\n",
       "    }\n",
       "\n",
       "    .dataframe tbody tr th {\n",
       "        vertical-align: top;\n",
       "    }\n",
       "\n",
       "    .dataframe thead th {\n",
       "        text-align: right;\n",
       "    }\n",
       "</style>\n",
       "<table border=\"1\" class=\"dataframe\">\n",
       "  <thead>\n",
       "    <tr style=\"text-align: right;\">\n",
       "      <th></th>\n",
       "      <th>ID</th>\n",
       "      <th>survived</th>\n",
       "      <th>pclass</th>\n",
       "      <th>age</th>\n",
       "      <th>sibsp</th>\n",
       "      <th>parch</th>\n",
       "      <th>fare</th>\n",
       "    </tr>\n",
       "  </thead>\n",
       "  <tbody>\n",
       "    <tr>\n",
       "      <th>count</th>\n",
       "      <td>1000.000000</td>\n",
       "      <td>1000.00000</td>\n",
       "      <td>1000.000000</td>\n",
       "      <td>802.000000</td>\n",
       "      <td>1000.000000</td>\n",
       "      <td>1000.00000</td>\n",
       "      <td>999.000000</td>\n",
       "    </tr>\n",
       "    <tr>\n",
       "      <th>mean</th>\n",
       "      <td>499.500000</td>\n",
       "      <td>0.39800</td>\n",
       "      <td>2.288000</td>\n",
       "      <td>29.850686</td>\n",
       "      <td>0.496000</td>\n",
       "      <td>0.40200</td>\n",
       "      <td>34.264352</td>\n",
       "    </tr>\n",
       "    <tr>\n",
       "      <th>std</th>\n",
       "      <td>288.819436</td>\n",
       "      <td>0.48973</td>\n",
       "      <td>0.840096</td>\n",
       "      <td>14.328743</td>\n",
       "      <td>1.024223</td>\n",
       "      <td>0.91719</td>\n",
       "      <td>53.315077</td>\n",
       "    </tr>\n",
       "    <tr>\n",
       "      <th>min</th>\n",
       "      <td>0.000000</td>\n",
       "      <td>0.00000</td>\n",
       "      <td>1.000000</td>\n",
       "      <td>0.166700</td>\n",
       "      <td>0.000000</td>\n",
       "      <td>0.00000</td>\n",
       "      <td>0.000000</td>\n",
       "    </tr>\n",
       "    <tr>\n",
       "      <th>25%</th>\n",
       "      <td>249.750000</td>\n",
       "      <td>0.00000</td>\n",
       "      <td>1.750000</td>\n",
       "      <td>21.000000</td>\n",
       "      <td>0.000000</td>\n",
       "      <td>0.00000</td>\n",
       "      <td>7.925000</td>\n",
       "    </tr>\n",
       "    <tr>\n",
       "      <th>50%</th>\n",
       "      <td>499.500000</td>\n",
       "      <td>0.00000</td>\n",
       "      <td>3.000000</td>\n",
       "      <td>28.000000</td>\n",
       "      <td>0.000000</td>\n",
       "      <td>0.00000</td>\n",
       "      <td>14.458300</td>\n",
       "    </tr>\n",
       "    <tr>\n",
       "      <th>75%</th>\n",
       "      <td>749.250000</td>\n",
       "      <td>1.00000</td>\n",
       "      <td>3.000000</td>\n",
       "      <td>39.000000</td>\n",
       "      <td>1.000000</td>\n",
       "      <td>0.00000</td>\n",
       "      <td>31.275000</td>\n",
       "    </tr>\n",
       "    <tr>\n",
       "      <th>max</th>\n",
       "      <td>999.000000</td>\n",
       "      <td>1.00000</td>\n",
       "      <td>3.000000</td>\n",
       "      <td>80.000000</td>\n",
       "      <td>8.000000</td>\n",
       "      <td>9.00000</td>\n",
       "      <td>512.329200</td>\n",
       "    </tr>\n",
       "  </tbody>\n",
       "</table>\n",
       "</div>"
      ],
      "text/plain": [
       "                ID    survived       pclass         age        sibsp  \\\n",
       "count  1000.000000  1000.00000  1000.000000  802.000000  1000.000000   \n",
       "mean    499.500000     0.39800     2.288000   29.850686     0.496000   \n",
       "std     288.819436     0.48973     0.840096   14.328743     1.024223   \n",
       "min       0.000000     0.00000     1.000000    0.166700     0.000000   \n",
       "25%     249.750000     0.00000     1.750000   21.000000     0.000000   \n",
       "50%     499.500000     0.00000     3.000000   28.000000     0.000000   \n",
       "75%     749.250000     1.00000     3.000000   39.000000     1.000000   \n",
       "max     999.000000     1.00000     3.000000   80.000000     8.000000   \n",
       "\n",
       "            parch        fare  \n",
       "count  1000.00000  999.000000  \n",
       "mean      0.40200   34.264352  \n",
       "std       0.91719   53.315077  \n",
       "min       0.00000    0.000000  \n",
       "25%       0.00000    7.925000  \n",
       "50%       0.00000   14.458300  \n",
       "75%       0.00000   31.275000  \n",
       "max       9.00000  512.329200  "
      ]
     },
     "metadata": {},
     "output_type": "display_data"
    }
   ],
   "source": [
    "display(data.describe())"
   ]
  },
  {
   "cell_type": "markdown",
   "metadata": {},
   "source": [
    "Ted' uz vidime, ze prezilo 39,8% procent lidi. Takze vidime, ze věk cestujících se pohybuje od 0,4 do 80 let.\n",
    "\n",
    "Take vidime, ze nektere veky se chybeji. Podivame se na to, kolik vlastne dat mizi:"
   ]
  },
  {
   "cell_type": "code",
   "execution_count": 609,
   "metadata": {},
   "outputs": [
    {
     "data": {
      "text/html": [
       "<div>\n",
       "<style scoped>\n",
       "    .dataframe tbody tr th:only-of-type {\n",
       "        vertical-align: middle;\n",
       "    }\n",
       "\n",
       "    .dataframe tbody tr th {\n",
       "        vertical-align: top;\n",
       "    }\n",
       "\n",
       "    .dataframe thead th {\n",
       "        text-align: right;\n",
       "    }\n",
       "</style>\n",
       "<table border=\"1\" class=\"dataframe\">\n",
       "  <thead>\n",
       "    <tr style=\"text-align: right;\">\n",
       "      <th></th>\n",
       "      <th>Total</th>\n",
       "      <th>%</th>\n",
       "    </tr>\n",
       "  </thead>\n",
       "  <tbody>\n",
       "    <tr>\n",
       "      <th>cabin</th>\n",
       "      <td>767</td>\n",
       "      <td>76.7</td>\n",
       "    </tr>\n",
       "    <tr>\n",
       "      <th>home.dest</th>\n",
       "      <td>434</td>\n",
       "      <td>43.4</td>\n",
       "    </tr>\n",
       "    <tr>\n",
       "      <th>age</th>\n",
       "      <td>198</td>\n",
       "      <td>19.8</td>\n",
       "    </tr>\n",
       "    <tr>\n",
       "      <th>embarked</th>\n",
       "      <td>2</td>\n",
       "      <td>0.2</td>\n",
       "    </tr>\n",
       "    <tr>\n",
       "      <th>fare</th>\n",
       "      <td>1</td>\n",
       "      <td>0.1</td>\n",
       "    </tr>\n",
       "  </tbody>\n",
       "</table>\n",
       "</div>"
      ],
      "text/plain": [
       "           Total     %\n",
       "cabin        767  76.7\n",
       "home.dest    434  43.4\n",
       "age          198  19.8\n",
       "embarked       2   0.2\n",
       "fare           1   0.1"
      ]
     },
     "execution_count": 609,
     "metadata": {},
     "output_type": "execute_result"
    }
   ],
   "source": [
    "total = data.isnull().sum().sort_values(ascending=False)\n",
    "percent_1 = data.isnull().sum()/data.isnull().count()*100\n",
    "percent_2 = (round(percent_1, 1)).sort_values(ascending=False)\n",
    "missing_data = pd.concat([total, percent_2], axis=1, keys=['Total', '%'])\n",
    "missing_data.head(5)"
   ]
  },
  {
   "cell_type": "markdown",
   "metadata": {},
   "source": [
    "Vidime, ze cabin a home.dest maji mnoho chybějících údajů, možná teto priznaky budeme muset vynechat. Věk lze nahradit mediánem\n",
    "Zkusime vizualizovat a zjištit korelací mezi jednotlivymi priznaky a mezi priznakem a \"survived\""
   ]
  },
  {
   "cell_type": "markdown",
   "metadata": {},
   "source": [
    "## Sex, Age a Survived"
   ]
  },
  {
   "cell_type": "code",
   "execution_count": 610,
   "metadata": {},
   "outputs": [
    {
     "data": {
      "text/plain": [
       "<AxesSubplot:xlabel='sex', ylabel='count'>"
      ]
     },
     "execution_count": 610,
     "metadata": {},
     "output_type": "execute_result"
    },
    {
     "data": {
      "image/png": "[encoded data removed]",
      "text/plain": [
       "<Figure size 640x480 with 1 Axes>"
      ]
     },
     "metadata": {},
     "output_type": "display_data"
    }
   ],
   "source": [
    "sns.countplot(x='sex', hue='survived', data=data)"
   ]
  },
  {
   "cell_type": "code",
   "execution_count": 611,
   "metadata": {},
   "outputs": [
    {
     "data": {
      "image/png": "[encoded data removed]",
      "text/plain": [
       "<Figure size 1200x400 with 2 Axes>"
      ]
     },
     "metadata": {},
     "output_type": "display_data"
    }
   ],
   "source": [
    "fig, axes = plt.subplots(nrows=1, ncols=2,figsize=(12, 4))\n",
    "female = data[data['sex']=='female']\n",
    "male = data[data['sex']=='male']\n",
    "female['age'].dropna()\n",
    "male['age'].dropna()\n",
    "\n",
    "ax = sns.histplot(data=female, x='age', bins=30, ax = axes[0], hue='survived')\n",
    "ax.legend(['survived', 'not survived'])\n",
    "ax.set_title('Female')\n",
    "\n",
    "ax = sns.histplot(data=male, x='age', bins=30, ax = axes[1], hue='survived')\n",
    "ax.legend(['survived', 'not survived'])\n",
    "_ = ax.set_title('Male')"
   ]
  },
  {
   "cell_type": "markdown",
   "metadata": {},
   "source": [
    "Je vidět, že muži mají vysokou pravděpodobnost přežití ve věku 0 až 10 let. U žen je šance na přežití vyšší mezi 20 a 30 lety.\n",
    "U mužů je pravděpodobnost přežití velmi nízká mezi 20. a 33. rokem života. Ženy mají nejnižší pravděpodobnost ještě mezi 20 a 30 lety.\n",
    "\n",
    "Také bych měl poznamenat, že kojenci a děti mají o něco vyšší pravděpodobnost přežití. Asi bude rozumne seradit veky podle kategorii.\n",
    "Z grafu vidime, ze nemame chyby ve veku: nejvyssi je 80, a je to asi jedinecny pripad."
   ]
  },
  {
   "cell_type": "code",
   "execution_count": 612,
   "metadata": {},
   "outputs": [
    {
     "data": {
      "text/plain": [
       "<AxesSubplot:ylabel='age'>"
      ]
     },
     "execution_count": 612,
     "metadata": {},
     "output_type": "execute_result"
    },
    {
     "data": {
      "image/png": "[encoded data removed]",
      "text/plain": [
       "<Figure size 640x480 with 1 Axes>"
      ]
     },
     "metadata": {},
     "output_type": "display_data"
    }
   ],
   "source": [
    "sns.boxplot(y='age',data=data)"
   ]
  },
  {
   "cell_type": "markdown",
   "metadata": {},
   "source": [
    "Obecné předpoklady jsou pravdivé: většina mužů zemřela při evakuaci žen a dětí."
   ]
  },
  {
   "cell_type": "markdown",
   "metadata": {},
   "source": [
    "## Pclass, Embarked a Survived"
   ]
  },
  {
   "cell_type": "code",
   "execution_count": 613,
   "metadata": {},
   "outputs": [
    {
     "data": {
      "text/plain": [
       "<AxesSubplot:xlabel='pclass', ylabel='count'>"
      ]
     },
     "execution_count": 613,
     "metadata": {},
     "output_type": "execute_result"
    },
    {
     "data": {
      "image/png": "[encoded data removed]",
      "text/plain": [
       "<Figure size 640x480 with 1 Axes>"
      ]
     },
     "metadata": {},
     "output_type": "display_data"
    }
   ],
   "source": [
    "sns.countplot(data=data, x='pclass',hue='survived')"
   ]
  },
  {
   "cell_type": "code",
   "execution_count": 614,
   "metadata": {},
   "outputs": [
    {
     "data": {
      "text/plain": [
       "<AxesSubplot:xlabel='embarked', ylabel='count'>"
      ]
     },
     "execution_count": 614,
     "metadata": {},
     "output_type": "execute_result"
    },
    {
     "data": {
      "image/png": "[encoded data removed]",
      "text/plain": [
       "<Figure size 640x480 with 1 Axes>"
      ]
     },
     "metadata": {},
     "output_type": "display_data"
    }
   ],
   "source": [
    "sns.countplot(data=data, x='embarked',hue='survived')"
   ]
  },
  {
   "cell_type": "markdown",
   "metadata": {},
   "source": [
    "pclass (předvídatelně) koreluje s přežitím: čím vyšší je třída, v čím vyšší palubě cestující žil, tím větší je pravděpodobnost, že přežije.\n",
    "take vidime, ze cestujici ve 3 tride maji vetsi sanci nepreziti.\n",
    "\n",
    "embarked má také určitou souvislost: lidé, kteří se nalodili v Southamptonu, mají nižší šanci na přežití než ti, kteří se nalodili v Cherbourgu.\n",
    "\n",
    "Podívejme se na vztah mezi Sex, Pclass a Survived:"
   ]
  },
  {
   "cell_type": "code",
   "execution_count": 615,
   "metadata": {},
   "outputs": [
    {
     "data": {
      "text/plain": [
       "<seaborn.axisgrid.FacetGrid at 0x223e242df40>"
      ]
     },
     "execution_count": 615,
     "metadata": {},
     "output_type": "execute_result"
    },
    {
     "data": {
      "image/png": "[encoded data removed]",
      "text/plain": [
       "<Figure size 1500x1000 with 6 Axes>"
      ]
     },
     "metadata": {},
     "output_type": "display_data"
    }
   ],
   "source": [
    "sns.catplot(x='sex', col='pclass', row='survived', data=data, kind='count')"
   ]
  },
  {
   "cell_type": "markdown",
   "metadata": {},
   "source": [
    "Vidíme, že přežil téměř stejný počet žen bez ohledu na třídu. U mužů je tomu naopak: počet obětí je úměrný třídě."
   ]
  },
  {
   "cell_type": "markdown",
   "metadata": {},
   "source": [
    "## Parch, SibSp a Survived"
   ]
  },
  {
   "cell_type": "markdown",
   "metadata": {},
   "source": [
    "tyto dvě kategorie lze zkombinovat a uvést tak celkový počet příbuzných na lodi:"
   ]
  },
  {
   "cell_type": "code",
   "execution_count": 616,
   "metadata": {},
   "outputs": [
    {
     "data": {
      "text/plain": [
       "<AxesSubplot:xlabel='relatives', ylabel='survived'>"
      ]
     },
     "execution_count": 616,
     "metadata": {},
     "output_type": "execute_result"
    },
    {
     "data": {
      "image/png": "[encoded data removed]",
      "text/plain": [
       "<Figure size 640x480 with 1 Axes>"
      ]
     },
     "metadata": {},
     "output_type": "display_data"
    }
   ],
   "source": [
    "data['relatives'] = data['sibsp'] + data['parch']\n",
    "\n",
    "sns.lineplot(x='relatives',y='survived',data=data)"
   ]
  },
  {
   "cell_type": "markdown",
   "metadata": {},
   "source": [
    "Zde vidíme, že jste měli vysokou pravděpodobnost přežití s 1 až 3 příbuznými, ale nižší, pokud jste měli méně než 1 nebo více než 3 příbuzné."
   ]
  },
  {
   "cell_type": "markdown",
   "metadata": {},
   "source": [
    "# Priprava dat"
   ]
  },
  {
   "cell_type": "markdown",
   "metadata": {},
   "source": [
    "## Name a prefix"
   ]
  },
  {
   "cell_type": "markdown",
   "metadata": {},
   "source": [
    "Pokusime dostat prefixy ze jmen a klasifikovat je:"
   ]
  },
  {
   "cell_type": "code",
   "execution_count": 617,
   "metadata": {},
   "outputs": [
    {
     "data": {
      "text/plain": [
       " Mr              566\n",
       " Miss            210\n",
       " Mrs             155\n",
       " Master           45\n",
       " Dr                7\n",
       " Rev               4\n",
       " Col               4\n",
       " Mlle              2\n",
       " Sir               1\n",
       " Capt              1\n",
       " Dona              1\n",
       " Ms                1\n",
       " the Countess      1\n",
       " Mme               1\n",
       " Major             1\n",
       "Name: prefix, dtype: int64"
      ]
     },
     "metadata": {},
     "output_type": "display_data"
    },
    {
     "data": {
      "text/plain": [
       "Man      566\n",
       "Woman    369\n",
       "Child     45\n",
       "Rare      20\n",
       "Name: prefix, dtype: int64"
      ]
     },
     "metadata": {},
     "output_type": "display_data"
    }
   ],
   "source": [
    "# Get prefixes from names, group them by rareness\n",
    "# Source: https://typewind.github.io/2017/07/25/titanic/\n",
    "# the prefixes can be separated into 4 groups:\n",
    "\n",
    "# For man: Mr\n",
    "# For woman: Miss, Mrs, Ms, Mme, Mlle\n",
    "# Child: Master\n",
    "# Rare: everyone else\n",
    "\n",
    "import re\n",
    "\n",
    "names=data[\"name\"]\n",
    "prefix=[]\n",
    "\n",
    "# Using regex mask search for first word after come, which is a prefix\n",
    "for name in names:\n",
    "    prefix.append(re.search(',(.*?)\\.',name).group(1)) \n",
    "\n",
    "data[\"prefix\"]=pd.Series(prefix,index=data.index)\n",
    "display(data[\"prefix\"].value_counts())\n",
    "\n",
    "#Get unique prefixes\n",
    "prefix = data['prefix'].value_counts().reset_index()['index']\n",
    "# Get all rare prefixes\n",
    "prefix = prefix[~prefix.isin([\" Miss\",\" Mrs\",\" Ms\",\" Mme\",\" Mlle\", \" Mr\", \" Master\"])]\n",
    "\n",
    "data[\"prefix\"] = data[\"prefix\"].replace(\" Mr\", \"Man\")\n",
    "data[\"prefix\"] = data[\"prefix\"].replace([\" Miss\",\" Mrs\",\" Ms\",\" Mme\",\" Mlle\"],\"Woman\")\n",
    "data[\"prefix\"] = data[\"prefix\"].replace(\" Master\",\"Child\")\n",
    "\n",
    "for pr in prefix:\n",
    "    data['prefix'].replace(pr,\"Rare\",inplace=True)\n",
    "display(data[\"prefix\"].value_counts(dropna=False))"
   ]
  },
  {
   "cell_type": "markdown",
   "metadata": {},
   "source": [
    "Jmeno ted muzeme odstranit:"
   ]
  },
  {
   "cell_type": "code",
   "execution_count": 618,
   "metadata": {},
   "outputs": [],
   "source": [
    "data.drop(['name'],inplace=True,axis='columns')"
   ]
  },
  {
   "cell_type": "markdown",
   "metadata": {},
   "source": [
    "## Cabin a Deck"
   ]
  },
  {
   "cell_type": "markdown",
   "metadata": {},
   "source": [
    "Podívejme se, jaké hodnoty má priznak 'cabin':"
   ]
  },
  {
   "cell_type": "code",
   "execution_count": 619,
   "metadata": {},
   "outputs": [
    {
     "data": {
      "text/plain": [
       "NaN                767\n",
       "B57 B59 B63 B66      5\n",
       "C23 C25 C27          5\n",
       "C78                  4\n",
       "C22 C26              4\n",
       "                  ... \n",
       "D37                  1\n",
       "C126                 1\n",
       "A19                  1\n",
       "E63                  1\n",
       "D7                   1\n",
       "Name: cabin, Length: 158, dtype: int64"
      ]
     },
     "execution_count": 619,
     "metadata": {},
     "output_type": "execute_result"
    }
   ],
   "source": [
    "data['cabin'].value_counts(dropna=False)"
   ]
  },
  {
   "cell_type": "markdown",
   "metadata": {},
   "source": [
    "Zajímavý detail: číslo kabiny se skládá z čísla paluby a samotného čísla kabiny!\n",
    "Umístění cestujícího na lodi může mít velký vliv na to, zda přežije, nebo ne.\n",
    "Vyzdvihněme novy priznak: Deck "
   ]
  },
  {
   "cell_type": "code",
   "execution_count": 620,
   "metadata": {},
   "outputs": [],
   "source": [
    "def get_decks(value):\n",
    "     if (pd.isnull(value) or value == \"\" or value.isnumeric()):\n",
    "         return np.nan\n",
    "     return value[:1]\n"
   ]
  },
  {
   "cell_type": "code",
   "execution_count": 621,
   "metadata": {},
   "outputs": [
    {
     "data": {
      "text/plain": [
       "NaN    767\n",
       "C       76\n",
       "B       55\n",
       "D       35\n",
       "E       29\n",
       "F       17\n",
       "A       17\n",
       "G        3\n",
       "T        1\n",
       "Name: deck, dtype: int64"
      ]
     },
     "metadata": {},
     "output_type": "display_data"
    }
   ],
   "source": [
    "decks = data['cabin'].apply(get_decks)\n",
    "data['deck'] = pd.Series(decks,index=data.index)\n",
    "display(data['deck'].value_counts(dropna=False))"
   ]
  },
  {
   "cell_type": "markdown",
   "metadata": {},
   "source": [
    "Cabin ted muzeme odstranit:"
   ]
  },
  {
   "cell_type": "code",
   "execution_count": 622,
   "metadata": {},
   "outputs": [],
   "source": [
    "data.drop(['cabin'],inplace=True,axis='columns')"
   ]
  },
  {
   "cell_type": "markdown",
   "metadata": {},
   "source": [
    "## Rozdělení + míchání dat"
   ]
  },
  {
   "cell_type": "markdown",
   "metadata": {},
   "source": [
    "K tomu použijeme funkci train_test_split() s náhodným semínkem\n"
   ]
  },
  {
   "cell_type": "code",
   "execution_count": 623,
   "metadata": {},
   "outputs": [],
   "source": [
    "# Split ratio: 60% train, 20% validation, 20% test\n",
    "\n",
    "Xtrain, Xrest, ytrain, yrest = train_test_split( \n",
    "      data.drop(columns=['survived']), \n",
    "      data['survived'], \n",
    "      test_size=0.4, \n",
    "      random_state=random_seed\n",
    ")\n",
    "\n",
    "Xval, Xtest, yval, ytest = train_test_split( \n",
    "      Xrest, \n",
    "      yrest, \n",
    "      test_size=0.5, \n",
    "      random_state=random_seed\n",
    ")"
   ]
  },
  {
   "cell_type": "markdown",
   "metadata": {},
   "source": [
    "## Age"
   ]
  },
  {
   "cell_type": "markdown",
   "metadata": {},
   "source": [
    "Převeďme věk na kategoriální atribut: rozdělme cestující podle jejich věku do několika kategorií:"
   ]
  },
  {
   "cell_type": "code",
   "execution_count": 624,
   "metadata": {},
   "outputs": [
    {
     "name": "stdout",
     "output_type": "stream",
     "text": [
      "Child median age:  6 \n",
      "Adult median age: 31\n"
     ]
    }
   ],
   "source": [
    "# Fill NaN age with corresponding median age (for children and adults)\n",
    "child_age_mean = round(Xtrain['age'][Xtrain['prefix'] == \"Child\"].mean())\n",
    "age_mean = round(Xtrain['age'][Xtrain['prefix'] != \"Child\"].mean())\n",
    "print(\"Child median age: \",child_age_mean,\"\\nAdult median age:\",age_mean)\n",
    "\n",
    "child = Xtrain['age'][Xtrain['prefix'] == \"Child\"]\n",
    "child = child.fillna(child_age_mean)\n",
    "adult = Xtrain['age'][Xtrain['prefix'] != \"Child\"]\n",
    "adult = adult.fillna(age_mean)\n",
    "\n",
    "age = child.combine_first(adult)\n",
    "\n",
    "Xtrain['age'] = age\n",
    "\n",
    "child = Xval['age'][Xval['prefix'] == \"Child\"]\n",
    "child = child.fillna(child_age_mean)\n",
    "adult = Xval['age'][Xval['prefix'] != \"Child\"]\n",
    "adult = adult.fillna(age_mean)\n",
    "\n",
    "age = child.combine_first(adult)\n",
    "\n",
    "Xval['age'] = age\n",
    "\n",
    "child = Xtest['age'][Xtest['prefix'] == \"Child\"]\n",
    "child = child.fillna(child_age_mean)\n",
    "adult = Xtest['age'][Xtest['prefix'] != \"Child\"]\n",
    "adult = adult.fillna(age_mean)\n",
    "\n",
    "age = child.combine_first(adult)\n",
    "\n",
    "Xtest['age'] = age"
   ]
  },
  {
   "cell_type": "code",
   "execution_count": 625,
   "metadata": {},
   "outputs": [
    {
     "data": {
      "text/html": [
       "<div>\n",
       "<style scoped>\n",
       "    .dataframe tbody tr th:only-of-type {\n",
       "        vertical-align: middle;\n",
       "    }\n",
       "\n",
       "    .dataframe tbody tr th {\n",
       "        vertical-align: top;\n",
       "    }\n",
       "\n",
       "    .dataframe thead th {\n",
       "        text-align: right;\n",
       "    }\n",
       "</style>\n",
       "<table border=\"1\" class=\"dataframe\">\n",
       "  <thead>\n",
       "    <tr style=\"text-align: right;\">\n",
       "      <th></th>\n",
       "      <th>ID</th>\n",
       "      <th>pclass</th>\n",
       "      <th>sex</th>\n",
       "      <th>age</th>\n",
       "      <th>sibsp</th>\n",
       "      <th>parch</th>\n",
       "      <th>ticket</th>\n",
       "      <th>fare</th>\n",
       "      <th>embarked</th>\n",
       "      <th>home.dest</th>\n",
       "      <th>relatives</th>\n",
       "      <th>prefix</th>\n",
       "      <th>deck</th>\n",
       "      <th>age_category</th>\n",
       "    </tr>\n",
       "  </thead>\n",
       "  <tbody>\n",
       "    <tr>\n",
       "      <th>820</th>\n",
       "      <td>820</td>\n",
       "      <td>3</td>\n",
       "      <td>male</td>\n",
       "      <td>31.0</td>\n",
       "      <td>0</td>\n",
       "      <td>0</td>\n",
       "      <td>A/5 1478</td>\n",
       "      <td>8.0500</td>\n",
       "      <td>S</td>\n",
       "      <td>Bridgwater, Somerset, England</td>\n",
       "      <td>0</td>\n",
       "      <td>Man</td>\n",
       "      <td>NaN</td>\n",
       "      <td>Adult</td>\n",
       "    </tr>\n",
       "    <tr>\n",
       "      <th>69</th>\n",
       "      <td>69</td>\n",
       "      <td>3</td>\n",
       "      <td>female</td>\n",
       "      <td>28.0</td>\n",
       "      <td>0</td>\n",
       "      <td>0</td>\n",
       "      <td>349245</td>\n",
       "      <td>7.8958</td>\n",
       "      <td>S</td>\n",
       "      <td>NaN</td>\n",
       "      <td>0</td>\n",
       "      <td>Woman</td>\n",
       "      <td>NaN</td>\n",
       "      <td>Young</td>\n",
       "    </tr>\n",
       "    <tr>\n",
       "      <th>564</th>\n",
       "      <td>564</td>\n",
       "      <td>2</td>\n",
       "      <td>male</td>\n",
       "      <td>23.0</td>\n",
       "      <td>0</td>\n",
       "      <td>0</td>\n",
       "      <td>244278</td>\n",
       "      <td>10.5000</td>\n",
       "      <td>S</td>\n",
       "      <td>Hamilton, ON</td>\n",
       "      <td>0</td>\n",
       "      <td>Rare</td>\n",
       "      <td>NaN</td>\n",
       "      <td>Young</td>\n",
       "    </tr>\n",
       "    <tr>\n",
       "      <th>818</th>\n",
       "      <td>818</td>\n",
       "      <td>2</td>\n",
       "      <td>female</td>\n",
       "      <td>50.0</td>\n",
       "      <td>0</td>\n",
       "      <td>1</td>\n",
       "      <td>230433</td>\n",
       "      <td>26.0000</td>\n",
       "      <td>S</td>\n",
       "      <td>Woodford County, KY</td>\n",
       "      <td>1</td>\n",
       "      <td>Woman</td>\n",
       "      <td>NaN</td>\n",
       "      <td>Adult</td>\n",
       "    </tr>\n",
       "    <tr>\n",
       "      <th>393</th>\n",
       "      <td>393</td>\n",
       "      <td>1</td>\n",
       "      <td>female</td>\n",
       "      <td>31.0</td>\n",
       "      <td>1</td>\n",
       "      <td>0</td>\n",
       "      <td>35273</td>\n",
       "      <td>113.2750</td>\n",
       "      <td>C</td>\n",
       "      <td>Lexington, MA</td>\n",
       "      <td>1</td>\n",
       "      <td>Woman</td>\n",
       "      <td>D</td>\n",
       "      <td>Adult</td>\n",
       "    </tr>\n",
       "    <tr>\n",
       "      <th>26</th>\n",
       "      <td>26</td>\n",
       "      <td>3</td>\n",
       "      <td>female</td>\n",
       "      <td>31.0</td>\n",
       "      <td>0</td>\n",
       "      <td>0</td>\n",
       "      <td>A. 2. 39186</td>\n",
       "      <td>8.0500</td>\n",
       "      <td>S</td>\n",
       "      <td>NaN</td>\n",
       "      <td>0</td>\n",
       "      <td>Woman</td>\n",
       "      <td>NaN</td>\n",
       "      <td>Adult</td>\n",
       "    </tr>\n",
       "    <tr>\n",
       "      <th>441</th>\n",
       "      <td>441</td>\n",
       "      <td>3</td>\n",
       "      <td>male</td>\n",
       "      <td>31.0</td>\n",
       "      <td>0</td>\n",
       "      <td>0</td>\n",
       "      <td>349220</td>\n",
       "      <td>7.8958</td>\n",
       "      <td>S</td>\n",
       "      <td>NaN</td>\n",
       "      <td>0</td>\n",
       "      <td>Man</td>\n",
       "      <td>NaN</td>\n",
       "      <td>Adult</td>\n",
       "    </tr>\n",
       "    <tr>\n",
       "      <th>968</th>\n",
       "      <td>968</td>\n",
       "      <td>1</td>\n",
       "      <td>male</td>\n",
       "      <td>31.0</td>\n",
       "      <td>0</td>\n",
       "      <td>0</td>\n",
       "      <td>F.C. 12998</td>\n",
       "      <td>25.7417</td>\n",
       "      <td>C</td>\n",
       "      <td>Paris, France</td>\n",
       "      <td>0</td>\n",
       "      <td>Man</td>\n",
       "      <td>NaN</td>\n",
       "      <td>Adult</td>\n",
       "    </tr>\n",
       "    <tr>\n",
       "      <th>255</th>\n",
       "      <td>255</td>\n",
       "      <td>3</td>\n",
       "      <td>male</td>\n",
       "      <td>10.0</td>\n",
       "      <td>3</td>\n",
       "      <td>2</td>\n",
       "      <td>347088</td>\n",
       "      <td>27.9000</td>\n",
       "      <td>S</td>\n",
       "      <td>NaN</td>\n",
       "      <td>5</td>\n",
       "      <td>Child</td>\n",
       "      <td>NaN</td>\n",
       "      <td>Teenager</td>\n",
       "    </tr>\n",
       "    <tr>\n",
       "      <th>727</th>\n",
       "      <td>727</td>\n",
       "      <td>1</td>\n",
       "      <td>male</td>\n",
       "      <td>46.0</td>\n",
       "      <td>0</td>\n",
       "      <td>0</td>\n",
       "      <td>13050</td>\n",
       "      <td>75.2417</td>\n",
       "      <td>C</td>\n",
       "      <td>Vancouver, BC</td>\n",
       "      <td>0</td>\n",
       "      <td>Man</td>\n",
       "      <td>C</td>\n",
       "      <td>Adult</td>\n",
       "    </tr>\n",
       "  </tbody>\n",
       "</table>\n",
       "</div>"
      ],
      "text/plain": [
       "      ID  pclass     sex   age  sibsp  parch       ticket      fare embarked  \\\n",
       "820  820       3    male  31.0      0      0     A/5 1478    8.0500        S   \n",
       "69    69       3  female  28.0      0      0       349245    7.8958        S   \n",
       "564  564       2    male  23.0      0      0       244278   10.5000        S   \n",
       "818  818       2  female  50.0      0      1       230433   26.0000        S   \n",
       "393  393       1  female  31.0      1      0        35273  113.2750        C   \n",
       "26    26       3  female  31.0      0      0  A. 2. 39186    8.0500        S   \n",
       "441  441       3    male  31.0      0      0       349220    7.8958        S   \n",
       "968  968       1    male  31.0      0      0   F.C. 12998   25.7417        C   \n",
       "255  255       3    male  10.0      3      2       347088   27.9000        S   \n",
       "727  727       1    male  46.0      0      0        13050   75.2417        C   \n",
       "\n",
       "                         home.dest  relatives prefix deck age_category  \n",
       "820  Bridgwater, Somerset, England          0    Man  NaN        Adult  \n",
       "69                             NaN          0  Woman  NaN        Young  \n",
       "564                   Hamilton, ON          0   Rare  NaN        Young  \n",
       "818            Woodford County, KY          1  Woman  NaN        Adult  \n",
       "393                  Lexington, MA          1  Woman    D        Adult  \n",
       "26                             NaN          0  Woman  NaN        Adult  \n",
       "441                            NaN          0    Man  NaN        Adult  \n",
       "968                  Paris, France          0    Man  NaN        Adult  \n",
       "255                            NaN          5  Child  NaN     Teenager  \n",
       "727                  Vancouver, BC          0    Man    C        Adult  "
      ]
     },
     "execution_count": 625,
     "metadata": {},
     "output_type": "execute_result"
    }
   ],
   "source": [
    "Xtrain['age_category'] = pd.cut(Xtrain['age'], bins=[0, 4, 8, 18, 30, 60, 100],\n",
    "                              labels=[\"Infant\", \"Child\", \"Teenager\", \"Young\", \"Adult\", \"Senior\"])\n",
    "\n",
    "Xval['age_category'] = pd.cut(Xval['age'], bins=[0, 4, 8, 18, 30, 60, 100],\n",
    "                              labels=[\"Infant\", \"Child\", \"Teenager\", \"Young\", \"Adult\", \"Senior\"])\n",
    "\n",
    "Xtest['age_category'] = pd.cut(Xtest['age'], bins=[0, 4, 8, 18, 30, 60, 100],\n",
    "                              labels=[\"Infant\", \"Child\", \"Teenager\", \"Young\", \"Adult\", \"Senior\"])\n",
    "\n",
    "Xtrain.head(10)"
   ]
  },
  {
   "cell_type": "markdown",
   "metadata": {},
   "source": [
    "Age ted muzeme odstranit:"
   ]
  },
  {
   "cell_type": "code",
   "execution_count": 626,
   "metadata": {},
   "outputs": [],
   "source": [
    "Xtrain.drop(['age'],inplace=True,axis='columns')\n",
    "Xval.drop(['age'],inplace=True,axis='columns')\n",
    "Xtest.drop(['age'],inplace=True,axis='columns')"
   ]
  },
  {
   "cell_type": "markdown",
   "metadata": {},
   "source": [
    "## Fare, Embarked"
   ]
  },
  {
   "cell_type": "markdown",
   "metadata": {},
   "source": [
    "Zaplnime stredni hodnotou:"
   ]
  },
  {
   "cell_type": "code",
   "execution_count": 627,
   "metadata": {},
   "outputs": [],
   "source": [
    "# Fill NaN's in fare\n",
    "Xtrain['fare'].fillna(Xtrain['fare'].mean(),inplace=True)\n",
    "Xval['fare'].fillna(Xtrain['fare'].mean(),inplace=True)\n",
    "Xtest['fare'].fillna(Xtrain['fare'].mean(),inplace=True)"
   ]
  },
  {
   "cell_type": "code",
   "execution_count": 628,
   "metadata": {},
   "outputs": [
    {
     "name": "stdout",
     "output_type": "stream",
     "text": [
      "<class 'pandas.core.frame.DataFrame'>\n",
      "Int64Index: 600 entries, 820 to 138\n",
      "Data columns (total 13 columns):\n",
      " #   Column        Non-Null Count  Dtype   \n",
      "---  ------        --------------  -----   \n",
      " 0   ID            600 non-null    int64   \n",
      " 1   pclass        600 non-null    int64   \n",
      " 2   sex           600 non-null    object  \n",
      " 3   sibsp         600 non-null    int64   \n",
      " 4   parch         600 non-null    int64   \n",
      " 5   ticket        600 non-null    object  \n",
      " 6   fare          600 non-null    float64 \n",
      " 7   embarked      600 non-null    object  \n",
      " 8   home.dest     325 non-null    object  \n",
      " 9   relatives     600 non-null    int64   \n",
      " 10  prefix        600 non-null    object  \n",
      " 11  deck          138 non-null    object  \n",
      " 12  age_category  600 non-null    category\n",
      "dtypes: category(1), float64(1), int64(5), object(6)\n",
      "memory usage: 61.7+ KB\n"
     ]
    }
   ],
   "source": [
    "Xtrain['embarked'].describe()\n",
    "\n",
    "Xtrain['embarked'].fillna(\"S\",inplace=True)\n",
    "Xval['embarked'].fillna(\"S\",inplace=True)\n",
    "Xtest['embarked'].fillna(\"S\",inplace=True)\n",
    "\n",
    "Xtrain.info()"
   ]
  },
  {
   "cell_type": "markdown",
   "metadata": {},
   "source": [
    "## Zbytečné priznaky"
   ]
  },
  {
   "cell_type": "markdown",
   "metadata": {},
   "source": [
    "Odstranime priznaky home.dest, id a ticket"
   ]
  },
  {
   "cell_type": "code",
   "execution_count": 629,
   "metadata": {},
   "outputs": [
    {
     "name": "stdout",
     "output_type": "stream",
     "text": [
      "<class 'pandas.core.frame.DataFrame'>\n",
      "Int64Index: 600 entries, 820 to 138\n",
      "Data columns (total 10 columns):\n",
      " #   Column        Non-Null Count  Dtype   \n",
      "---  ------        --------------  -----   \n",
      " 0   pclass        600 non-null    int64   \n",
      " 1   sex           600 non-null    object  \n",
      " 2   sibsp         600 non-null    int64   \n",
      " 3   parch         600 non-null    int64   \n",
      " 4   fare          600 non-null    float64 \n",
      " 5   embarked      600 non-null    object  \n",
      " 6   relatives     600 non-null    int64   \n",
      " 7   prefix        600 non-null    object  \n",
      " 8   deck          138 non-null    object  \n",
      " 9   age_category  600 non-null    category\n",
      "dtypes: category(1), float64(1), int64(4), object(4)\n",
      "memory usage: 47.7+ KB\n"
     ]
    },
    {
     "data": {
      "text/html": [
       "<div>\n",
       "<style scoped>\n",
       "    .dataframe tbody tr th:only-of-type {\n",
       "        vertical-align: middle;\n",
       "    }\n",
       "\n",
       "    .dataframe tbody tr th {\n",
       "        vertical-align: top;\n",
       "    }\n",
       "\n",
       "    .dataframe thead th {\n",
       "        text-align: right;\n",
       "    }\n",
       "</style>\n",
       "<table border=\"1\" class=\"dataframe\">\n",
       "  <thead>\n",
       "    <tr style=\"text-align: right;\">\n",
       "      <th></th>\n",
       "      <th>pclass</th>\n",
       "      <th>sex</th>\n",
       "      <th>sibsp</th>\n",
       "      <th>parch</th>\n",
       "      <th>fare</th>\n",
       "      <th>embarked</th>\n",
       "      <th>relatives</th>\n",
       "      <th>prefix</th>\n",
       "      <th>deck</th>\n",
       "      <th>age_category</th>\n",
       "    </tr>\n",
       "  </thead>\n",
       "  <tbody>\n",
       "    <tr>\n",
       "      <th>820</th>\n",
       "      <td>3</td>\n",
       "      <td>male</td>\n",
       "      <td>0</td>\n",
       "      <td>0</td>\n",
       "      <td>8.0500</td>\n",
       "      <td>S</td>\n",
       "      <td>0</td>\n",
       "      <td>Man</td>\n",
       "      <td>NaN</td>\n",
       "      <td>Adult</td>\n",
       "    </tr>\n",
       "    <tr>\n",
       "      <th>69</th>\n",
       "      <td>3</td>\n",
       "      <td>female</td>\n",
       "      <td>0</td>\n",
       "      <td>0</td>\n",
       "      <td>7.8958</td>\n",
       "      <td>S</td>\n",
       "      <td>0</td>\n",
       "      <td>Woman</td>\n",
       "      <td>NaN</td>\n",
       "      <td>Young</td>\n",
       "    </tr>\n",
       "    <tr>\n",
       "      <th>564</th>\n",
       "      <td>2</td>\n",
       "      <td>male</td>\n",
       "      <td>0</td>\n",
       "      <td>0</td>\n",
       "      <td>10.5000</td>\n",
       "      <td>S</td>\n",
       "      <td>0</td>\n",
       "      <td>Rare</td>\n",
       "      <td>NaN</td>\n",
       "      <td>Young</td>\n",
       "    </tr>\n",
       "    <tr>\n",
       "      <th>818</th>\n",
       "      <td>2</td>\n",
       "      <td>female</td>\n",
       "      <td>0</td>\n",
       "      <td>1</td>\n",
       "      <td>26.0000</td>\n",
       "      <td>S</td>\n",
       "      <td>1</td>\n",
       "      <td>Woman</td>\n",
       "      <td>NaN</td>\n",
       "      <td>Adult</td>\n",
       "    </tr>\n",
       "    <tr>\n",
       "      <th>393</th>\n",
       "      <td>1</td>\n",
       "      <td>female</td>\n",
       "      <td>1</td>\n",
       "      <td>0</td>\n",
       "      <td>113.2750</td>\n",
       "      <td>C</td>\n",
       "      <td>1</td>\n",
       "      <td>Woman</td>\n",
       "      <td>D</td>\n",
       "      <td>Adult</td>\n",
       "    </tr>\n",
       "    <tr>\n",
       "      <th>26</th>\n",
       "      <td>3</td>\n",
       "      <td>female</td>\n",
       "      <td>0</td>\n",
       "      <td>0</td>\n",
       "      <td>8.0500</td>\n",
       "      <td>S</td>\n",
       "      <td>0</td>\n",
       "      <td>Woman</td>\n",
       "      <td>NaN</td>\n",
       "      <td>Adult</td>\n",
       "    </tr>\n",
       "    <tr>\n",
       "      <th>441</th>\n",
       "      <td>3</td>\n",
       "      <td>male</td>\n",
       "      <td>0</td>\n",
       "      <td>0</td>\n",
       "      <td>7.8958</td>\n",
       "      <td>S</td>\n",
       "      <td>0</td>\n",
       "      <td>Man</td>\n",
       "      <td>NaN</td>\n",
       "      <td>Adult</td>\n",
       "    </tr>\n",
       "    <tr>\n",
       "      <th>968</th>\n",
       "      <td>1</td>\n",
       "      <td>male</td>\n",
       "      <td>0</td>\n",
       "      <td>0</td>\n",
       "      <td>25.7417</td>\n",
       "      <td>C</td>\n",
       "      <td>0</td>\n",
       "      <td>Man</td>\n",
       "      <td>NaN</td>\n",
       "      <td>Adult</td>\n",
       "    </tr>\n",
       "    <tr>\n",
       "      <th>255</th>\n",
       "      <td>3</td>\n",
       "      <td>male</td>\n",
       "      <td>3</td>\n",
       "      <td>2</td>\n",
       "      <td>27.9000</td>\n",
       "      <td>S</td>\n",
       "      <td>5</td>\n",
       "      <td>Child</td>\n",
       "      <td>NaN</td>\n",
       "      <td>Teenager</td>\n",
       "    </tr>\n",
       "    <tr>\n",
       "      <th>727</th>\n",
       "      <td>1</td>\n",
       "      <td>male</td>\n",
       "      <td>0</td>\n",
       "      <td>0</td>\n",
       "      <td>75.2417</td>\n",
       "      <td>C</td>\n",
       "      <td>0</td>\n",
       "      <td>Man</td>\n",
       "      <td>C</td>\n",
       "      <td>Adult</td>\n",
       "    </tr>\n",
       "  </tbody>\n",
       "</table>\n",
       "</div>"
      ],
      "text/plain": [
       "     pclass     sex  sibsp  parch      fare embarked  relatives prefix deck  \\\n",
       "820       3    male      0      0    8.0500        S          0    Man  NaN   \n",
       "69        3  female      0      0    7.8958        S          0  Woman  NaN   \n",
       "564       2    male      0      0   10.5000        S          0   Rare  NaN   \n",
       "818       2  female      0      1   26.0000        S          1  Woman  NaN   \n",
       "393       1  female      1      0  113.2750        C          1  Woman    D   \n",
       "26        3  female      0      0    8.0500        S          0  Woman  NaN   \n",
       "441       3    male      0      0    7.8958        S          0    Man  NaN   \n",
       "968       1    male      0      0   25.7417        C          0    Man  NaN   \n",
       "255       3    male      3      2   27.9000        S          5  Child  NaN   \n",
       "727       1    male      0      0   75.2417        C          0    Man    C   \n",
       "\n",
       "    age_category  \n",
       "820        Adult  \n",
       "69         Young  \n",
       "564        Young  \n",
       "818        Adult  \n",
       "393        Adult  \n",
       "26         Adult  \n",
       "441        Adult  \n",
       "968        Adult  \n",
       "255     Teenager  \n",
       "727        Adult  "
      ]
     },
     "execution_count": 629,
     "metadata": {},
     "output_type": "execute_result"
    }
   ],
   "source": [
    "Xtrain.drop(columns=[\"home.dest\", \"ID\", \"ticket\"],inplace=True,errors=\"ignore\")\n",
    "Xval.drop(columns=[\"home.dest\", \"ID\", \"ticket\"],inplace=True,errors=\"ignore\")\n",
    "Xtest.drop(columns=[\"home.dest\", \"ID\", \"ticket\"],inplace=True,errors=\"ignore\")\n",
    "\n",
    "Xtrain.info()\n",
    "Xtrain.head(10)"
   ]
  },
  {
   "cell_type": "markdown",
   "metadata": {},
   "source": [
    "# Kodovani dat"
   ]
  },
  {
   "cell_type": "markdown",
   "metadata": {},
   "source": [
    "Pro kodovani dat pouzijeme pd.get_dummies a LabelEncoder."
   ]
  },
  {
   "cell_type": "code",
   "execution_count": 630,
   "metadata": {},
   "outputs": [],
   "source": [
    "Xtrain = pd.get_dummies(Xtrain,columns=['pclass','embarked'])\n",
    "Xval = pd.get_dummies(Xval,columns=['pclass','embarked'])\n",
    "Xtest = pd.get_dummies(Xtest,columns=['pclass','embarked'])"
   ]
  },
  {
   "cell_type": "code",
   "execution_count": 631,
   "metadata": {},
   "outputs": [],
   "source": [
    "encoders = {}\n",
    "cat_cols = {'sex','age_category','deck','prefix'}\n",
    "\n",
    "for col in Xtrain.select_dtypes('object').columns:\n",
    "    Xtrain[col] = Xtrain[col].fillna('NaN')\n",
    "    Xtrain[col] = Xtrain[col].astype('category')\n",
    "    \n",
    "    Xval[col] = Xval[col].fillna('NaN')\n",
    "    Xval[col] = Xval[col].astype('category')\n",
    "    \n",
    "    Xtest[col] = Xtest[col].fillna('NaN')\n",
    "    Xtest[col] = Xtest[col].astype('category')\n",
    "\n",
    "for col in cat_cols:\n",
    "    categories = Xtrain[col].unique()\n",
    "    encoders[col] = LabelEncoder()\n",
    "    encoders[col].fit(Xtrain[col])\n",
    "    Xtrain[col] = encoders[col].transform(Xtrain[col])\n",
    "\n",
    "    for idx, val in Xval[col].items():\n",
    "        if val not in categories:\n",
    "            Xval.at[idx, col] = 'NaN'\n",
    "    Xval[col] = encoders[col].transform(Xval[col])\n",
    "\n",
    "    for idx, val in Xtest[col].items():\n",
    "        if val not in categories:\n",
    "            Xtest.at[idx, col] = 'NaN'\n",
    "    Xtest[col] = encoders[col].transform(Xtest[col])"
   ]
  },
  {
   "cell_type": "code",
   "execution_count": 632,
   "metadata": {},
   "outputs": [
    {
     "data": {
      "text/html": [
       "<div>\n",
       "<style scoped>\n",
       "    .dataframe tbody tr th:only-of-type {\n",
       "        vertical-align: middle;\n",
       "    }\n",
       "\n",
       "    .dataframe tbody tr th {\n",
       "        vertical-align: top;\n",
       "    }\n",
       "\n",
       "    .dataframe thead th {\n",
       "        text-align: right;\n",
       "    }\n",
       "</style>\n",
       "<table border=\"1\" class=\"dataframe\">\n",
       "  <thead>\n",
       "    <tr style=\"text-align: right;\">\n",
       "      <th></th>\n",
       "      <th>sex</th>\n",
       "      <th>sibsp</th>\n",
       "      <th>parch</th>\n",
       "      <th>fare</th>\n",
       "      <th>relatives</th>\n",
       "      <th>prefix</th>\n",
       "      <th>deck</th>\n",
       "      <th>age_category</th>\n",
       "      <th>pclass_1</th>\n",
       "      <th>pclass_2</th>\n",
       "      <th>pclass_3</th>\n",
       "      <th>embarked_C</th>\n",
       "      <th>embarked_Q</th>\n",
       "      <th>embarked_S</th>\n",
       "    </tr>\n",
       "  </thead>\n",
       "  <tbody>\n",
       "    <tr>\n",
       "      <th>820</th>\n",
       "      <td>1</td>\n",
       "      <td>0</td>\n",
       "      <td>0</td>\n",
       "      <td>8.0500</td>\n",
       "      <td>0</td>\n",
       "      <td>1</td>\n",
       "      <td>7</td>\n",
       "      <td>0</td>\n",
       "      <td>0</td>\n",
       "      <td>0</td>\n",
       "      <td>1</td>\n",
       "      <td>0</td>\n",
       "      <td>0</td>\n",
       "      <td>1</td>\n",
       "    </tr>\n",
       "    <tr>\n",
       "      <th>69</th>\n",
       "      <td>0</td>\n",
       "      <td>0</td>\n",
       "      <td>0</td>\n",
       "      <td>7.8958</td>\n",
       "      <td>0</td>\n",
       "      <td>3</td>\n",
       "      <td>7</td>\n",
       "      <td>5</td>\n",
       "      <td>0</td>\n",
       "      <td>0</td>\n",
       "      <td>1</td>\n",
       "      <td>0</td>\n",
       "      <td>0</td>\n",
       "      <td>1</td>\n",
       "    </tr>\n",
       "    <tr>\n",
       "      <th>564</th>\n",
       "      <td>1</td>\n",
       "      <td>0</td>\n",
       "      <td>0</td>\n",
       "      <td>10.5000</td>\n",
       "      <td>0</td>\n",
       "      <td>2</td>\n",
       "      <td>7</td>\n",
       "      <td>5</td>\n",
       "      <td>0</td>\n",
       "      <td>1</td>\n",
       "      <td>0</td>\n",
       "      <td>0</td>\n",
       "      <td>0</td>\n",
       "      <td>1</td>\n",
       "    </tr>\n",
       "    <tr>\n",
       "      <th>818</th>\n",
       "      <td>0</td>\n",
       "      <td>0</td>\n",
       "      <td>1</td>\n",
       "      <td>26.0000</td>\n",
       "      <td>1</td>\n",
       "      <td>3</td>\n",
       "      <td>7</td>\n",
       "      <td>0</td>\n",
       "      <td>0</td>\n",
       "      <td>1</td>\n",
       "      <td>0</td>\n",
       "      <td>0</td>\n",
       "      <td>0</td>\n",
       "      <td>1</td>\n",
       "    </tr>\n",
       "    <tr>\n",
       "      <th>393</th>\n",
       "      <td>0</td>\n",
       "      <td>1</td>\n",
       "      <td>0</td>\n",
       "      <td>113.2750</td>\n",
       "      <td>1</td>\n",
       "      <td>3</td>\n",
       "      <td>3</td>\n",
       "      <td>0</td>\n",
       "      <td>1</td>\n",
       "      <td>0</td>\n",
       "      <td>0</td>\n",
       "      <td>1</td>\n",
       "      <td>0</td>\n",
       "      <td>0</td>\n",
       "    </tr>\n",
       "    <tr>\n",
       "      <th>26</th>\n",
       "      <td>0</td>\n",
       "      <td>0</td>\n",
       "      <td>0</td>\n",
       "      <td>8.0500</td>\n",
       "      <td>0</td>\n",
       "      <td>3</td>\n",
       "      <td>7</td>\n",
       "      <td>0</td>\n",
       "      <td>0</td>\n",
       "      <td>0</td>\n",
       "      <td>1</td>\n",
       "      <td>0</td>\n",
       "      <td>0</td>\n",
       "      <td>1</td>\n",
       "    </tr>\n",
       "    <tr>\n",
       "      <th>441</th>\n",
       "      <td>1</td>\n",
       "      <td>0</td>\n",
       "      <td>0</td>\n",
       "      <td>7.8958</td>\n",
       "      <td>0</td>\n",
       "      <td>1</td>\n",
       "      <td>7</td>\n",
       "      <td>0</td>\n",
       "      <td>0</td>\n",
       "      <td>0</td>\n",
       "      <td>1</td>\n",
       "      <td>0</td>\n",
       "      <td>0</td>\n",
       "      <td>1</td>\n",
       "    </tr>\n",
       "    <tr>\n",
       "      <th>968</th>\n",
       "      <td>1</td>\n",
       "      <td>0</td>\n",
       "      <td>0</td>\n",
       "      <td>25.7417</td>\n",
       "      <td>0</td>\n",
       "      <td>1</td>\n",
       "      <td>7</td>\n",
       "      <td>0</td>\n",
       "      <td>1</td>\n",
       "      <td>0</td>\n",
       "      <td>0</td>\n",
       "      <td>1</td>\n",
       "      <td>0</td>\n",
       "      <td>0</td>\n",
       "    </tr>\n",
       "    <tr>\n",
       "      <th>255</th>\n",
       "      <td>1</td>\n",
       "      <td>3</td>\n",
       "      <td>2</td>\n",
       "      <td>27.9000</td>\n",
       "      <td>5</td>\n",
       "      <td>0</td>\n",
       "      <td>7</td>\n",
       "      <td>4</td>\n",
       "      <td>0</td>\n",
       "      <td>0</td>\n",
       "      <td>1</td>\n",
       "      <td>0</td>\n",
       "      <td>0</td>\n",
       "      <td>1</td>\n",
       "    </tr>\n",
       "    <tr>\n",
       "      <th>727</th>\n",
       "      <td>1</td>\n",
       "      <td>0</td>\n",
       "      <td>0</td>\n",
       "      <td>75.2417</td>\n",
       "      <td>0</td>\n",
       "      <td>1</td>\n",
       "      <td>2</td>\n",
       "      <td>0</td>\n",
       "      <td>1</td>\n",
       "      <td>0</td>\n",
       "      <td>0</td>\n",
       "      <td>1</td>\n",
       "      <td>0</td>\n",
       "      <td>0</td>\n",
       "    </tr>\n",
       "  </tbody>\n",
       "</table>\n",
       "</div>"
      ],
      "text/plain": [
       "     sex  sibsp  parch      fare  relatives  prefix  deck  age_category  \\\n",
       "820    1      0      0    8.0500          0       1     7             0   \n",
       "69     0      0      0    7.8958          0       3     7             5   \n",
       "564    1      0      0   10.5000          0       2     7             5   \n",
       "818    0      0      1   26.0000          1       3     7             0   \n",
       "393    0      1      0  113.2750          1       3     3             0   \n",
       "26     0      0      0    8.0500          0       3     7             0   \n",
       "441    1      0      0    7.8958          0       1     7             0   \n",
       "968    1      0      0   25.7417          0       1     7             0   \n",
       "255    1      3      2   27.9000          5       0     7             4   \n",
       "727    1      0      0   75.2417          0       1     2             0   \n",
       "\n",
       "     pclass_1  pclass_2  pclass_3  embarked_C  embarked_Q  embarked_S  \n",
       "820         0         0         1           0           0           1  \n",
       "69          0         0         1           0           0           1  \n",
       "564         0         1         0           0           0           1  \n",
       "818         0         1         0           0           0           1  \n",
       "393         1         0         0           1           0           0  \n",
       "26          0         0         1           0           0           1  \n",
       "441         0         0         1           0           0           1  \n",
       "968         1         0         0           1           0           0  \n",
       "255         0         0         1           0           0           1  \n",
       "727         1         0         0           1           0           0  "
      ]
     },
     "execution_count": 632,
     "metadata": {},
     "output_type": "execute_result"
    }
   ],
   "source": [
    "Xtrain.head(10)"
   ]
  },
  {
   "cell_type": "code",
   "execution_count": 633,
   "metadata": {},
   "outputs": [
    {
     "data": {
      "text/html": [
       "<div>\n",
       "<style scoped>\n",
       "    .dataframe tbody tr th:only-of-type {\n",
       "        vertical-align: middle;\n",
       "    }\n",
       "\n",
       "    .dataframe tbody tr th {\n",
       "        vertical-align: top;\n",
       "    }\n",
       "\n",
       "    .dataframe thead th {\n",
       "        text-align: right;\n",
       "    }\n",
       "</style>\n",
       "<table border=\"1\" class=\"dataframe\">\n",
       "  <thead>\n",
       "    <tr style=\"text-align: right;\">\n",
       "      <th></th>\n",
       "      <th>sex</th>\n",
       "      <th>sibsp</th>\n",
       "      <th>parch</th>\n",
       "      <th>fare</th>\n",
       "      <th>relatives</th>\n",
       "      <th>prefix</th>\n",
       "      <th>deck</th>\n",
       "      <th>age_category</th>\n",
       "      <th>pclass_1</th>\n",
       "      <th>pclass_2</th>\n",
       "      <th>pclass_3</th>\n",
       "      <th>embarked_C</th>\n",
       "      <th>embarked_Q</th>\n",
       "      <th>embarked_S</th>\n",
       "    </tr>\n",
       "  </thead>\n",
       "  <tbody>\n",
       "    <tr>\n",
       "      <th>807</th>\n",
       "      <td>1</td>\n",
       "      <td>1</td>\n",
       "      <td>2</td>\n",
       "      <td>41.5792</td>\n",
       "      <td>3</td>\n",
       "      <td>1</td>\n",
       "      <td>7</td>\n",
       "      <td>5</td>\n",
       "      <td>0</td>\n",
       "      <td>1</td>\n",
       "      <td>0</td>\n",
       "      <td>1</td>\n",
       "      <td>0</td>\n",
       "      <td>0</td>\n",
       "    </tr>\n",
       "    <tr>\n",
       "      <th>610</th>\n",
       "      <td>1</td>\n",
       "      <td>0</td>\n",
       "      <td>0</td>\n",
       "      <td>7.2500</td>\n",
       "      <td>0</td>\n",
       "      <td>1</td>\n",
       "      <td>7</td>\n",
       "      <td>5</td>\n",
       "      <td>0</td>\n",
       "      <td>0</td>\n",
       "      <td>1</td>\n",
       "      <td>0</td>\n",
       "      <td>1</td>\n",
       "      <td>0</td>\n",
       "    </tr>\n",
       "    <tr>\n",
       "      <th>754</th>\n",
       "      <td>1</td>\n",
       "      <td>0</td>\n",
       "      <td>0</td>\n",
       "      <td>7.8958</td>\n",
       "      <td>0</td>\n",
       "      <td>1</td>\n",
       "      <td>7</td>\n",
       "      <td>5</td>\n",
       "      <td>0</td>\n",
       "      <td>0</td>\n",
       "      <td>1</td>\n",
       "      <td>0</td>\n",
       "      <td>0</td>\n",
       "      <td>1</td>\n",
       "    </tr>\n",
       "    <tr>\n",
       "      <th>514</th>\n",
       "      <td>1</td>\n",
       "      <td>1</td>\n",
       "      <td>1</td>\n",
       "      <td>164.8667</td>\n",
       "      <td>2</td>\n",
       "      <td>1</td>\n",
       "      <td>7</td>\n",
       "      <td>0</td>\n",
       "      <td>1</td>\n",
       "      <td>0</td>\n",
       "      <td>0</td>\n",
       "      <td>0</td>\n",
       "      <td>0</td>\n",
       "      <td>1</td>\n",
       "    </tr>\n",
       "    <tr>\n",
       "      <th>436</th>\n",
       "      <td>0</td>\n",
       "      <td>4</td>\n",
       "      <td>2</td>\n",
       "      <td>31.2750</td>\n",
       "      <td>6</td>\n",
       "      <td>3</td>\n",
       "      <td>7</td>\n",
       "      <td>1</td>\n",
       "      <td>0</td>\n",
       "      <td>0</td>\n",
       "      <td>1</td>\n",
       "      <td>0</td>\n",
       "      <td>0</td>\n",
       "      <td>1</td>\n",
       "    </tr>\n",
       "    <tr>\n",
       "      <th>920</th>\n",
       "      <td>1</td>\n",
       "      <td>0</td>\n",
       "      <td>1</td>\n",
       "      <td>29.7000</td>\n",
       "      <td>1</td>\n",
       "      <td>1</td>\n",
       "      <td>2</td>\n",
       "      <td>0</td>\n",
       "      <td>1</td>\n",
       "      <td>0</td>\n",
       "      <td>0</td>\n",
       "      <td>1</td>\n",
       "      <td>0</td>\n",
       "      <td>0</td>\n",
       "    </tr>\n",
       "    <tr>\n",
       "      <th>851</th>\n",
       "      <td>0</td>\n",
       "      <td>0</td>\n",
       "      <td>0</td>\n",
       "      <td>14.5000</td>\n",
       "      <td>0</td>\n",
       "      <td>3</td>\n",
       "      <td>7</td>\n",
       "      <td>0</td>\n",
       "      <td>0</td>\n",
       "      <td>0</td>\n",
       "      <td>1</td>\n",
       "      <td>0</td>\n",
       "      <td>0</td>\n",
       "      <td>1</td>\n",
       "    </tr>\n",
       "    <tr>\n",
       "      <th>529</th>\n",
       "      <td>1</td>\n",
       "      <td>0</td>\n",
       "      <td>0</td>\n",
       "      <td>8.0500</td>\n",
       "      <td>0</td>\n",
       "      <td>1</td>\n",
       "      <td>7</td>\n",
       "      <td>0</td>\n",
       "      <td>0</td>\n",
       "      <td>0</td>\n",
       "      <td>1</td>\n",
       "      <td>0</td>\n",
       "      <td>0</td>\n",
       "      <td>1</td>\n",
       "    </tr>\n",
       "    <tr>\n",
       "      <th>949</th>\n",
       "      <td>1</td>\n",
       "      <td>0</td>\n",
       "      <td>0</td>\n",
       "      <td>26.0000</td>\n",
       "      <td>0</td>\n",
       "      <td>1</td>\n",
       "      <td>7</td>\n",
       "      <td>5</td>\n",
       "      <td>0</td>\n",
       "      <td>1</td>\n",
       "      <td>0</td>\n",
       "      <td>0</td>\n",
       "      <td>0</td>\n",
       "      <td>1</td>\n",
       "    </tr>\n",
       "    <tr>\n",
       "      <th>115</th>\n",
       "      <td>1</td>\n",
       "      <td>0</td>\n",
       "      <td>0</td>\n",
       "      <td>10.5000</td>\n",
       "      <td>0</td>\n",
       "      <td>1</td>\n",
       "      <td>7</td>\n",
       "      <td>5</td>\n",
       "      <td>0</td>\n",
       "      <td>1</td>\n",
       "      <td>0</td>\n",
       "      <td>0</td>\n",
       "      <td>0</td>\n",
       "      <td>1</td>\n",
       "    </tr>\n",
       "  </tbody>\n",
       "</table>\n",
       "</div>"
      ],
      "text/plain": [
       "     sex  sibsp  parch      fare  relatives  prefix  deck  age_category  \\\n",
       "807    1      1      2   41.5792          3       1     7             5   \n",
       "610    1      0      0    7.2500          0       1     7             5   \n",
       "754    1      0      0    7.8958          0       1     7             5   \n",
       "514    1      1      1  164.8667          2       1     7             0   \n",
       "436    0      4      2   31.2750          6       3     7             1   \n",
       "920    1      0      1   29.7000          1       1     2             0   \n",
       "851    0      0      0   14.5000          0       3     7             0   \n",
       "529    1      0      0    8.0500          0       1     7             0   \n",
       "949    1      0      0   26.0000          0       1     7             5   \n",
       "115    1      0      0   10.5000          0       1     7             5   \n",
       "\n",
       "     pclass_1  pclass_2  pclass_3  embarked_C  embarked_Q  embarked_S  \n",
       "807         0         1         0           1           0           0  \n",
       "610         0         0         1           0           1           0  \n",
       "754         0         0         1           0           0           1  \n",
       "514         1         0         0           0           0           1  \n",
       "436         0         0         1           0           0           1  \n",
       "920         1         0         0           1           0           0  \n",
       "851         0         0         1           0           0           1  \n",
       "529         0         0         1           0           0           1  \n",
       "949         0         1         0           0           0           1  \n",
       "115         0         1         0           0           0           1  "
      ]
     },
     "execution_count": 633,
     "metadata": {},
     "output_type": "execute_result"
    }
   ],
   "source": [
    "Xval.head(10)"
   ]
  },
  {
   "cell_type": "code",
   "execution_count": 634,
   "metadata": {},
   "outputs": [
    {
     "data": {
      "text/html": [
       "<div>\n",
       "<style scoped>\n",
       "    .dataframe tbody tr th:only-of-type {\n",
       "        vertical-align: middle;\n",
       "    }\n",
       "\n",
       "    .dataframe tbody tr th {\n",
       "        vertical-align: top;\n",
       "    }\n",
       "\n",
       "    .dataframe thead th {\n",
       "        text-align: right;\n",
       "    }\n",
       "</style>\n",
       "<table border=\"1\" class=\"dataframe\">\n",
       "  <thead>\n",
       "    <tr style=\"text-align: right;\">\n",
       "      <th></th>\n",
       "      <th>sex</th>\n",
       "      <th>sibsp</th>\n",
       "      <th>parch</th>\n",
       "      <th>fare</th>\n",
       "      <th>relatives</th>\n",
       "      <th>prefix</th>\n",
       "      <th>deck</th>\n",
       "      <th>age_category</th>\n",
       "      <th>pclass_1</th>\n",
       "      <th>pclass_2</th>\n",
       "      <th>pclass_3</th>\n",
       "      <th>embarked_C</th>\n",
       "      <th>embarked_Q</th>\n",
       "      <th>embarked_S</th>\n",
       "    </tr>\n",
       "  </thead>\n",
       "  <tbody>\n",
       "    <tr>\n",
       "      <th>965</th>\n",
       "      <td>0</td>\n",
       "      <td>0</td>\n",
       "      <td>0</td>\n",
       "      <td>262.3750</td>\n",
       "      <td>0</td>\n",
       "      <td>3</td>\n",
       "      <td>1</td>\n",
       "      <td>0</td>\n",
       "      <td>1</td>\n",
       "      <td>0</td>\n",
       "      <td>0</td>\n",
       "      <td>1</td>\n",
       "      <td>0</td>\n",
       "      <td>0</td>\n",
       "    </tr>\n",
       "    <tr>\n",
       "      <th>768</th>\n",
       "      <td>1</td>\n",
       "      <td>0</td>\n",
       "      <td>0</td>\n",
       "      <td>26.2875</td>\n",
       "      <td>0</td>\n",
       "      <td>1</td>\n",
       "      <td>4</td>\n",
       "      <td>0</td>\n",
       "      <td>1</td>\n",
       "      <td>0</td>\n",
       "      <td>0</td>\n",
       "      <td>0</td>\n",
       "      <td>0</td>\n",
       "      <td>1</td>\n",
       "    </tr>\n",
       "    <tr>\n",
       "      <th>389</th>\n",
       "      <td>1</td>\n",
       "      <td>0</td>\n",
       "      <td>0</td>\n",
       "      <td>7.2250</td>\n",
       "      <td>0</td>\n",
       "      <td>1</td>\n",
       "      <td>7</td>\n",
       "      <td>0</td>\n",
       "      <td>0</td>\n",
       "      <td>0</td>\n",
       "      <td>1</td>\n",
       "      <td>1</td>\n",
       "      <td>0</td>\n",
       "      <td>0</td>\n",
       "    </tr>\n",
       "    <tr>\n",
       "      <th>522</th>\n",
       "      <td>1</td>\n",
       "      <td>0</td>\n",
       "      <td>0</td>\n",
       "      <td>16.1000</td>\n",
       "      <td>0</td>\n",
       "      <td>1</td>\n",
       "      <td>7</td>\n",
       "      <td>5</td>\n",
       "      <td>0</td>\n",
       "      <td>0</td>\n",
       "      <td>1</td>\n",
       "      <td>0</td>\n",
       "      <td>0</td>\n",
       "      <td>1</td>\n",
       "    </tr>\n",
       "    <tr>\n",
       "      <th>279</th>\n",
       "      <td>1</td>\n",
       "      <td>0</td>\n",
       "      <td>0</td>\n",
       "      <td>73.5000</td>\n",
       "      <td>0</td>\n",
       "      <td>1</td>\n",
       "      <td>7</td>\n",
       "      <td>4</td>\n",
       "      <td>0</td>\n",
       "      <td>1</td>\n",
       "      <td>0</td>\n",
       "      <td>0</td>\n",
       "      <td>0</td>\n",
       "      <td>1</td>\n",
       "    </tr>\n",
       "    <tr>\n",
       "      <th>608</th>\n",
       "      <td>1</td>\n",
       "      <td>0</td>\n",
       "      <td>0</td>\n",
       "      <td>9.0000</td>\n",
       "      <td>0</td>\n",
       "      <td>1</td>\n",
       "      <td>7</td>\n",
       "      <td>5</td>\n",
       "      <td>0</td>\n",
       "      <td>0</td>\n",
       "      <td>1</td>\n",
       "      <td>0</td>\n",
       "      <td>0</td>\n",
       "      <td>1</td>\n",
       "    </tr>\n",
       "    <tr>\n",
       "      <th>284</th>\n",
       "      <td>0</td>\n",
       "      <td>0</td>\n",
       "      <td>0</td>\n",
       "      <td>15.7500</td>\n",
       "      <td>0</td>\n",
       "      <td>3</td>\n",
       "      <td>7</td>\n",
       "      <td>4</td>\n",
       "      <td>0</td>\n",
       "      <td>1</td>\n",
       "      <td>0</td>\n",
       "      <td>0</td>\n",
       "      <td>0</td>\n",
       "      <td>1</td>\n",
       "    </tr>\n",
       "    <tr>\n",
       "      <th>777</th>\n",
       "      <td>0</td>\n",
       "      <td>0</td>\n",
       "      <td>1</td>\n",
       "      <td>26.0000</td>\n",
       "      <td>1</td>\n",
       "      <td>3</td>\n",
       "      <td>7</td>\n",
       "      <td>5</td>\n",
       "      <td>0</td>\n",
       "      <td>1</td>\n",
       "      <td>0</td>\n",
       "      <td>0</td>\n",
       "      <td>0</td>\n",
       "      <td>1</td>\n",
       "    </tr>\n",
       "    <tr>\n",
       "      <th>605</th>\n",
       "      <td>0</td>\n",
       "      <td>1</td>\n",
       "      <td>2</td>\n",
       "      <td>27.7500</td>\n",
       "      <td>3</td>\n",
       "      <td>3</td>\n",
       "      <td>7</td>\n",
       "      <td>1</td>\n",
       "      <td>0</td>\n",
       "      <td>1</td>\n",
       "      <td>0</td>\n",
       "      <td>0</td>\n",
       "      <td>0</td>\n",
       "      <td>1</td>\n",
       "    </tr>\n",
       "    <tr>\n",
       "      <th>116</th>\n",
       "      <td>0</td>\n",
       "      <td>1</td>\n",
       "      <td>1</td>\n",
       "      <td>32.5000</td>\n",
       "      <td>2</td>\n",
       "      <td>3</td>\n",
       "      <td>7</td>\n",
       "      <td>0</td>\n",
       "      <td>0</td>\n",
       "      <td>1</td>\n",
       "      <td>0</td>\n",
       "      <td>0</td>\n",
       "      <td>0</td>\n",
       "      <td>1</td>\n",
       "    </tr>\n",
       "  </tbody>\n",
       "</table>\n",
       "</div>"
      ],
      "text/plain": [
       "     sex  sibsp  parch      fare  relatives  prefix  deck  age_category  \\\n",
       "965    0      0      0  262.3750          0       3     1             0   \n",
       "768    1      0      0   26.2875          0       1     4             0   \n",
       "389    1      0      0    7.2250          0       1     7             0   \n",
       "522    1      0      0   16.1000          0       1     7             5   \n",
       "279    1      0      0   73.5000          0       1     7             4   \n",
       "608    1      0      0    9.0000          0       1     7             5   \n",
       "284    0      0      0   15.7500          0       3     7             4   \n",
       "777    0      0      1   26.0000          1       3     7             5   \n",
       "605    0      1      2   27.7500          3       3     7             1   \n",
       "116    0      1      1   32.5000          2       3     7             0   \n",
       "\n",
       "     pclass_1  pclass_2  pclass_3  embarked_C  embarked_Q  embarked_S  \n",
       "965         1         0         0           1           0           0  \n",
       "768         1         0         0           0           0           1  \n",
       "389         0         0         1           1           0           0  \n",
       "522         0         0         1           0           0           1  \n",
       "279         0         1         0           0           0           1  \n",
       "608         0         0         1           0           0           1  \n",
       "284         0         1         0           0           0           1  \n",
       "777         0         1         0           0           0           1  \n",
       "605         0         1         0           0           0           1  \n",
       "116         0         1         0           0           0           1  "
      ]
     },
     "execution_count": 634,
     "metadata": {},
     "output_type": "execute_result"
    }
   ],
   "source": [
    "Xtest.head(10)"
   ]
  },
  {
   "cell_type": "markdown",
   "metadata": {},
   "source": [
    "# Trenovani modelu: vyber nejlepsich hyperparametru"
   ]
  },
  {
   "cell_type": "markdown",
   "metadata": {},
   "source": [
    "## Tree"
   ]
  },
  {
   "cell_type": "markdown",
   "metadata": {},
   "source": [
    "Rozhodovací strom je velmi vhodny algoritm pro předpovídání přežití pasažérů na Titaniku:\n",
    "\n",
    "1. Je snadno srozumitelny a interpretovatelny, muzeme ho vizualizovat a porozumět pravidlům, která se naučil.\n",
    "\n",
    "2. Rozhodovací strom muze zachytit nelineární vztahy mezi vstupními priznaky a cílovou proměnnou. V nasem datasetu existuji složité vztahy mezi faktory jako věk a pohlaví, trida a misto nalodeni, které ovlivňují přežití.\n",
    "\n",
    "3. Rozhodovací strom poskytuje informace o důležitosti různých příznaků při rozhodování. To může být užitečné k pochopení, které faktory sehrály klíčovou roli při určování přežití na Titaniku. Na základě těchto údajů je možné data ještě lépe zpracovat, což povede k lepším výsledkům predikce.\n",
    "\n",
    "Je však důležité si uvědomit, že tento algoritm ma také některá omezení:\n",
    "\n",
    "1. Rozhodovaci strom muze byt náchylny k přeučení a zachytávat šum ve trénovacích datech.\n",
    "\n",
    "2. Malé změny v datech mohou vést k různým strukturám stromu, což může být nevýhodou."
   ]
  },
  {
   "cell_type": "code",
   "execution_count": 635,
   "metadata": {},
   "outputs": [],
   "source": [
    "param_grid = {\n",
    "    'max_depth': range(1,30), \n",
    "    'criterion': ['entropy', 'gini']\n",
    "}\n",
    "param_comb = ParameterGrid(param_grid)\n",
    "\n",
    "val_acc = []\n",
    "train_acc = []\n",
    "for params in param_comb:\n",
    "    clf = DecisionTreeClassifier(max_depth=params['max_depth'], criterion=params['criterion'])\n",
    "    clf.fit(Xtrain.copy(), ytrain.copy())\n",
    "    train_acc.append(metrics.accuracy_score(ytrain, clf.predict(Xtrain)))\n",
    "    val_acc.append(metrics.accuracy_score(yval, clf.predict(Xval)))"
   ]
  },
  {
   "cell_type": "code",
   "execution_count": 636,
   "metadata": {},
   "outputs": [
    {
     "data": {
      "text/plain": [
       "<matplotlib.legend.Legend at 0x223e906dcd0>"
      ]
     },
     "execution_count": 636,
     "metadata": {},
     "output_type": "execute_result"
    },
    {
     "data": {
      "image/png": "[encoded data removed]",
      "text/plain": [
       "<Figure size 2000x600 with 1 Axes>"
      ]
     },
     "metadata": {},
     "output_type": "display_data"
    }
   ],
   "source": [
    "\n",
    "plt.figure(figsize=(20,6))\n",
    "plt.plot(train_acc,'or-')\n",
    "plt.plot(val_acc,'ob-')\n",
    "plt.xlabel('hyperparametr index')\n",
    "plt.ylabel('accuracy')\n",
    "plt.legend(['train', 'validation'])"
   ]
  },
  {
   "cell_type": "code",
   "execution_count": 637,
   "metadata": {},
   "outputs": [
    {
     "name": "stdout",
     "output_type": "stream",
     "text": [
      "Našli jsme nejlepší hyperparametry {'max_depth': 3, 'criterion': 'entropy'} s validační přesností 0.8300.\n"
     ]
    }
   ],
   "source": [
    "best_params_val = param_comb[np.argmax(val_acc)]\n",
    "best_metric_val = max(val_acc)\n",
    "print(f\"Našli jsme nejlepší hyperparametry {best_params_val} s validační přesností {best_metric_val:.4f}.\")"
   ]
  },
  {
   "cell_type": "markdown",
   "metadata": {},
   "source": [
    "## KNN"
   ]
  },
  {
   "cell_type": "markdown",
   "metadata": {},
   "source": [
    "Je mozne použit k-Nearest Neighbors (KNN) pro Titanic dataset. Některé důvody, proč by to mohlo být vhodne:\n",
    "\n",
    "1. KNN je jednoduchý a intuitivní algoritmus. Nedělá silné předpoklady o distribuci dat, je vhodný pro různé problémy.\n",
    "\n",
    "2. Predikce vytvořené KNN jsou snadno interpretovatelné. Jelikož závisí na blízkosti datových bodů, je snadné pochopit, jak byla konkrétní predikce vytvořena na základě nejbližších sousedů.\n",
    "\n",
    "3. KNN, jak i Decision Tree, dokáže zachytit složité vztahy v datech, včetně nelineárních vzorů.\n",
    "\n",
    "4. KNN dobře funguje na malých až střednich datasets, coz je bas pripad.\n",
    "\n",
    "5. Algortimus implicitně zohledňuje všechny příznaky v datasetu při tvorbě predikcí.\n",
    "\n",
    "Nicméně existují také některá nevyhody:\n",
    "\n",
    "1. S rostoucí velikostí datasetu rostou výpočetní náklady KNN, protože vyžaduje výpočet vzdáleností mezi datovými body. U nas to neni problem, mame jen 1000 zaznamu\n",
    "\n",
    "2. KNN může být citlivý na šum v datech a irelevantní příznaky. Proto asi je potreba odfiltrovat priznak Fare\n",
    "\n",
    "3. Algoritmus se nemusí dobře chovat na nerovnovážených datasetech, kde jedna třída výrazně převažuje nad druhou. Tady bohuzel mame takovy pripad (zemřelo mnoho mužů)."
   ]
  },
  {
   "cell_type": "markdown",
   "metadata": {},
   "source": [
    "Neiprve zkusime najit scaler, ktery dava nejlepsi presnost. Pouzijeme jenom pro priznak 'fare':"
   ]
  },
  {
   "cell_type": "code",
   "execution_count": 638,
   "metadata": {},
   "outputs": [
    {
     "name": "stdout",
     "output_type": "stream",
     "text": [
      "\n",
      "Validation accuracy of standart normalized model: 0.7950\n",
      "Validation accuracy of min-max normalized model: 0.8100\n"
     ]
    }
   ],
   "source": [
    "scaler = StandardScaler()\n",
    "Xtrain_scaled = scaler.fit_transform(Xtrain.copy())\n",
    "Xval_scaled = scaler.transform(Xval)\n",
    "Xtest_scaled = scaler.transform(Xtest)\n",
    "\n",
    "clf = KNeighborsClassifier()\n",
    "clf.fit(Xtrain_scaled.copy(), ytrain.copy())\n",
    "\n",
    "print(f\"\\nValidation accuracy of standart normalized model: {clf.score(Xval_scaled, yval):0.4f}\")\n",
    "\n",
    "scaler = MinMaxScaler()\n",
    "Xtrain_scaled = scaler.fit_transform(Xtrain.copy())\n",
    "Xval_scaled = scaler.transform(Xval)\n",
    "Xtest_scaled = scaler.transform(Xtest)\n",
    "\n",
    "clf = KNeighborsClassifier()\n",
    "clf.fit(Xtrain_scaled.copy(), ytrain.copy())\n",
    "\n",
    "print(f\"Validation accuracy of min-max normalized model: {clf.score(Xval_scaled, yval):0.4f}\")"
   ]
  },
  {
   "cell_type": "markdown",
   "metadata": {},
   "source": [
    "Vidime, ze je chodne pouzit MinMaxScaler pro nejlepsi predikci:"
   ]
  },
  {
   "cell_type": "code",
   "execution_count": 639,
   "metadata": {},
   "outputs": [
    {
     "data": {
      "text/plain": [
       "<matplotlib.legend.Legend at 0x223e92f8520>"
      ]
     },
     "execution_count": 639,
     "metadata": {},
     "output_type": "execute_result"
    },
    {
     "data": {
      "image/png": "[encoded data removed]",
      "text/plain": [
       "<Figure size 2000x600 with 1 Axes>"
      ]
     },
     "metadata": {},
     "output_type": "display_data"
    }
   ],
   "source": [
    "param_grid = {\n",
    "    'n_neighbors': range(1, 30),\n",
    "    'metric' : ['manhattan','minkowski']\n",
    "}   \n",
    "\n",
    "param_comb = ParameterGrid(param_grid)\n",
    "\n",
    "val_acc = []\n",
    "train_acc = []\n",
    "for params in param_comb:\n",
    "    clf = KNeighborsClassifier(n_neighbors = params['n_neighbors'], metric=params['metric'])\n",
    "    clf.fit(Xtrain_scaled.copy(), ytrain.copy())\n",
    "    train_acc.append(clf.score(Xtrain_scaled, ytrain))\n",
    "    val_acc.append(clf.score(Xval_scaled, yval))\n",
    "\n",
    "plt.figure(figsize=(20,6))\n",
    "plt.plot(train_acc,'or-')\n",
    "plt.plot(val_acc,'ob-')\n",
    "plt.xlabel('hyperparametr index')\n",
    "plt.ylabel('accuracy')\n",
    "plt.legend(['train', 'validation'])"
   ]
  },
  {
   "cell_type": "code",
   "execution_count": 640,
   "metadata": {},
   "outputs": [
    {
     "name": "stdout",
     "output_type": "stream",
     "text": [
      "Našli jsme nejlepší hyperparametry {'n_neighbors': 20, 'metric': 'manhattan'} s validační přesností 0.8550.\n"
     ]
    }
   ],
   "source": [
    "best_params_val_knn = param_comb[np.argmax(val_acc)]\n",
    "best_metric_val_knn = max(val_acc)\n",
    "print(f\"Našli jsme nejlepší hyperparametry {best_params_val_knn} s validační přesností {best_metric_val_knn:.4f}.\")"
   ]
  },
  {
   "cell_type": "markdown",
   "metadata": {},
   "source": [
    "Ted' zkusime cross validace:"
   ]
  },
  {
   "cell_type": "markdown",
   "metadata": {},
   "source": [
    "# Trenovani modelu: metriky"
   ]
  },
  {
   "cell_type": "markdown",
   "metadata": {},
   "source": [
    "## Tree"
   ]
  },
  {
   "cell_type": "markdown",
   "metadata": {},
   "source": [
    "Natrenerujeme modely z nejlepsimi parametry a vyvedeme metriky:"
   ]
  },
  {
   "cell_type": "code",
   "execution_count": 641,
   "metadata": {},
   "outputs": [
    {
     "name": "stdout",
     "output_type": "stream",
     "text": [
      "Tree\n",
      "Accuracy score (train): 0.805000\n",
      "Accuracy score (val): 0.830000\n",
      "\n",
      "Recall score (val): 0.690141\n",
      "\n",
      "[[117  12]\n",
      " [ 22  49]]\n",
      "\n",
      "F1 score (val): 0.742424\n"
     ]
    },
    {
     "data": {
      "image/png": "[encoded data removed]",
      "text/plain": [
       "<Figure size 640x480 with 1 Axes>"
      ]
     },
     "metadata": {},
     "output_type": "display_data"
    }
   ],
   "source": [
    "clfDT = DecisionTreeClassifier(**best_params_val)\n",
    "clfDT.fit(Xtrain_scaled.copy(), ytrain.copy())\n",
    "\n",
    "print(\"Tree\")\n",
    "print('Accuracy score (train): {0:.6f}'.format(metrics.accuracy_score(ytrain, clfDT.predict(Xtrain_scaled))))\n",
    "print('Accuracy score (val): {0:.6f}\\n'.format(metrics.accuracy_score(yval, clfDT.predict(Xval_scaled))))\n",
    "print('Recall score (val): {0:.6f}\\n'.format(metrics.recall_score(yval, clfDT.predict(Xval_scaled))))\n",
    "\n",
    "cfDT = metrics.confusion_matrix(yval, clfDT.predict(Xval_scaled))\n",
    "print(cfDT)\n",
    "print(f'\\nF1 score (val): {metrics.f1_score(yval, clfDT.predict(Xval_scaled)):.6f}')\n",
    "\n",
    "y_pred_proba = clfDT.predict_proba(Xval_scaled)\n",
    "p1_hat = y_pred_proba[:,1]\n",
    "\n",
    "fpr, tpr, thresholds = metrics.roc_curve(yval, p1_hat)\n",
    "\n",
    "AUC = metrics.roc_auc_score(yval, p1_hat)\n",
    "\n",
    "plt.figure()\n",
    "plt.plot([0, 1], [0, 1], color=\"navy\", lw=2, linestyle=\"--\")\n",
    "plt.plot(fpr, tpr, color=\"darkorange\", lw=2, label = f\"ROC křivka (AUC = {AUC:.3f})\")\n",
    "plt.xlim([0.0, 1.0])\n",
    "plt.ylim([0.0, 1.05])\n",
    "plt.xlabel(\"False Positive Rate\")\n",
    "plt.ylabel(\"True Positive Rate\")\n",
    "plt.title(\"ROC křivka\")\n",
    "plt.legend(loc=\"lower right\")\n",
    "plt.show()"
   ]
  },
  {
   "cell_type": "markdown",
   "metadata": {},
   "source": [
    "Z matice vyplývá, že počet cestujících, kteří přežili a byli klasifikováni jako přeživší (True Positive), je 113.\n",
    "\n",
    "Počet cestujících, kteří nepřežili a byli klasifikováni jako mrtví (True Negative), je 51. \n",
    "\n",
    "Náš dataset dat je mírně nevyvážený, protože katastrofu přežilo mnoho lidí (694 z 1000).\n",
    "\n",
    "* Přímka ROC (a plocha pod ní AUC) udává poměr mezi TP a FP pro každou prahovou hodnotu. Tato metrika ukazuje, jak dobře náš model klasifikuje předpovědi. Ukazuje, s jakou pravděpodobností bude náhodně vybraný pozitivní příklad zařazen výše než náhodně vybraný negativní příklad."
   ]
  },
  {
   "cell_type": "markdown",
   "metadata": {},
   "source": [
    "## KNN"
   ]
  },
  {
   "cell_type": "code",
   "execution_count": 642,
   "metadata": {},
   "outputs": [
    {
     "name": "stdout",
     "output_type": "stream",
     "text": [
      "KNN\n",
      "Accuracy score (train): 0.783333\n",
      "Accuracy score (val): 0.855000\n",
      "\n",
      "Recall score (val): 0.718310\n",
      "\n",
      "[[120   9]\n",
      " [ 20  51]]\n",
      "\n",
      "F1 score (val): 0.778626\n"
     ]
    },
    {
     "data": {
      "image/png": "[encoded data removed]",
      "text/plain": [
       "<Figure size 640x480 with 1 Axes>"
      ]
     },
     "metadata": {},
     "output_type": "display_data"
    }
   ],
   "source": [
    "clfKNN = KNeighborsClassifier(**best_params_val_knn)\n",
    "clfKNN.fit(Xtrain_scaled.copy(), ytrain.copy())\n",
    "\n",
    "print(\"KNN\")\n",
    "print('Accuracy score (train): {0:.6f}'.format(metrics.accuracy_score(ytrain, clfKNN.predict(Xtrain_scaled))))\n",
    "print('Accuracy score (val): {0:.6f}\\n'.format(metrics.accuracy_score(yval, clfKNN.predict(Xval_scaled))))\n",
    "print('Recall score (val): {0:.6f}\\n'.format(metrics.recall_score(yval, clfKNN.predict(Xval_scaled))))\n",
    "\n",
    "cfKNN = metrics.confusion_matrix(yval, clfKNN.predict(Xval_scaled))\n",
    "print(cfKNN)\n",
    "print(f'\\nF1 score (val): {metrics.f1_score(yval, clfKNN.predict(Xval_scaled)):.6f}')\n",
    "\n",
    "y_pred_proba = clfKNN.predict_proba(Xval_scaled)\n",
    "fpr, tpr, thresholds = metrics.roc_curve(yval, y_pred_proba[:,1])\n",
    "\n",
    "AUC = metrics.auc(fpr, tpr)\n",
    "\n",
    "plt.figure()\n",
    "plt.plot([0, 1], [0, 1], color=\"navy\", lw=2, linestyle=\"--\")\n",
    "plt.plot(fpr, tpr, color=\"darkorange\", lw=2, label = f\"ROC křivka (AUC = {AUC:.3f})\")\n",
    "plt.xlim([0.0, 1.0])\n",
    "plt.ylim([0.0, 1.05])\n",
    "plt.xlabel(\"False Positive Rate\")\n",
    "plt.ylabel(\"True Positive Rate\")\n",
    "plt.title(\"ROC křivka\")\n",
    "plt.legend(loc=\"lower right\")\n",
    "plt.show()"
   ]
  },
  {
   "cell_type": "markdown",
   "metadata": {},
   "source": [
    "Z dokumentace scikit:\n",
    "* Precision je intuitivně schopnost klasifikátoru neoznačit negativní vzorek jako pozitivní.\n",
    "* Recall je intuitivně schopnost klasifikátoru najít všechny pozitivní vzorky.\n",
    "\n",
    "F1 score je harmonický průměr precision a recall a je užitečný především pro datasety, kde P(Y = 1) je\n",
    "velmi malá - takže tady F1 by neměl být hlavním ukazatelem, podle kterého vybíráme model (přesto bychom ho měli brát v úvahu).\n",
    "\n",
    "\n",
    "(https://scikit-learn.org/stable/modules/generated/sklearn.metrics.precision_recall_fscore_support.html)"
   ]
  },
  {
   "cell_type": "markdown",
   "metadata": {},
   "source": [
    "# Vyber nejlepsiho modelu"
   ]
  },
  {
   "cell_type": "markdown",
   "metadata": {},
   "source": [
    "Podle metric uvedenych vyse nejlepsi model je KNN: ma vetsi Accuracy, F1 Score a AUC.\n",
    "\n",
    "Ted natrenujeme model na vshech datech, co mame k dispozici, pred vyhodnocovanim:"
   ]
  },
  {
   "cell_type": "code",
   "execution_count": 643,
   "metadata": {},
   "outputs": [
    {
     "name": "stdout",
     "output_type": "stream",
     "text": [
      "Přesnost, kterou můžeme očekávat na nových datech, je 0.755\n"
     ]
    }
   ],
   "source": [
    "best_model = KNeighborsClassifier(**best_params_val_knn)\n",
    "Xtrain_scaled = np.concatenate((Xtrain_scaled,Xval_scaled),axis=0)\n",
    "ytrain = pd.concat([ytrain,yval],axis=0)\n",
    "\n",
    "best_model.fit(Xtrain_scaled,ytrain)\n",
    "acc = metrics.accuracy_score(ytest, best_model.predict(Xtest_scaled))\n",
    "print(f\"Přesnost, kterou můžeme očekávat na nových datech, je {acc}\")"
   ]
  }
 ],
 "metadata": {
  "kernelspec": {
   "display_name": "Python 3 (ipykernel)",
   "language": "python",
   "name": "python3"
  },
  "language_info": {
   "codemirror_mode": {
    "name": "ipython",
    "version": 3
   },
   "file_extension": ".py",
   "mimetype": "text/x-python",
   "name": "python",
   "nbconvert_exporter": "python",
   "pygments_lexer": "ipython3",
   "version": "3.8.2"
  }
 },
 "nbformat": 4,
 "nbformat_minor": 5
}
